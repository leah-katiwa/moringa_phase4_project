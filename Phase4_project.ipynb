{
 "cells": [
  {
   "attachments": {},
   "cell_type": "markdown",
   "id": "8ffdda56",
   "metadata": {},
   "source": [
    "### **Business and Data Understanding**\n",
    "\n",
    "For this project, we utilized a dataset consisting of approximately 9,000 tweet sentiments about Apple and Google products. The dataset includes columns such as tweet_text, emotion_in_tweet_is_directed_at, and is_there_an_emotion_directed_at_a_brand_or_product. The objective was to develop a sentiment analysis model that could accurately classify tweets into positive, negative, or neutral sentiment categories.\n"
   ]
  },
  {
   "attachments": {},
   "cell_type": "markdown",
   "id": "58bdb02f",
   "metadata": {},
   "source": [
    "### **Data Preparation**\n",
    "\n",
    "To prepare the data, we performed various preprocessing steps. These included removing duplicates, handling missing values by filling them with \"none\" for the emotion_in_tweet_is_directed_at column, and dropping the row with a missing tweet_text. We also employed tokenization, lowercase conversion, stopword removal, and lemmatization to refine the text data.\n"
   ]
  },
  {
   "attachments": {},
   "cell_type": "markdown",
   "id": "7430fd47",
   "metadata": {},
   "source": [
    "### **Modeling**\n",
    "\n",
    "The packages/libraries utilized for data preparation and analysis included NLTK, sklearn, and pandas. NLTK was used for tokenization, stopword removal, and lemmatization. Sklearn's CountVectorizer and Tf-IdfVectorizer were employed for vectorization. Pandas was used for data manipulation and handling missing values.\n",
    "For modeling, we employed logistic regression as the binary classifier to classify tweets into positive or negative sentiment categories. As a benchmark, we aimed for an accuracy of 85%. In addition, we expanded the model to a multiclass classifier to include the neutral sentiment category.\n"
   ]
  },
  {
   "attachments": {},
   "cell_type": "markdown",
   "id": "d9658b9e",
   "metadata": {},
   "source": [
    "### **Evaluation**\n",
    "\n",
    "To evaluate the performance of the final model, we employed accuracy, precision, and recall metrics. These metrics provided insights into the model's ability to correctly classify instances and predict positive, negative, and neutral sentiments.\n",
    "\n",
    "In conclusion, the sentiment analysis model developed using logistic regression demonstrated satisfactory performance in classifying tweet sentiments. The pre-processing steps and modeling choices contributed to accurate predictions and meaningful insights. However, limitations such as missing values and data quality issues should be considered when interpreting the results. Recommendations include further refining the model and expanding the dataset for improved sentiment analysis accuracy.\n"
   ]
  },
  {
   "attachments": {},
   "cell_type": "markdown",
   "id": "3d2c5784",
   "metadata": {},
   "source": [
    "### Data understanding\n",
    "\n",
    "We will start by importing all libraries used throughout the notebook."
   ]
  },
  {
   "cell_type": "code",
   "execution_count": 1,
   "id": "98526cf6",
   "metadata": {},
   "outputs": [
    {
     "name": "stderr",
     "output_type": "stream",
     "text": [
      "[nltk_data] Downloading package punkt to\n",
      "[nltk_data]     C:\\Users\\ADMIN\\AppData\\Roaming\\nltk_data...\n",
      "[nltk_data]   Package punkt is already up-to-date!\n",
      "[nltk_data] Downloading package stopwords to\n",
      "[nltk_data]     C:\\Users\\ADMIN\\AppData\\Roaming\\nltk_data...\n",
      "[nltk_data]   Package stopwords is already up-to-date!\n",
      "[nltk_data] Downloading package wordnet to\n",
      "[nltk_data]     C:\\Users\\ADMIN\\AppData\\Roaming\\nltk_data...\n",
      "[nltk_data]   Package wordnet is already up-to-date!\n"
     ]
    }
   ],
   "source": [
    "#loading libraries\n",
    "\n",
    "import re\n",
    "import pandas as pd\n",
    "import numpy as np\n",
    "import seaborn as sns\n",
    "import matplotlib.pyplot as plt\n",
    "%matplotlib inline\n",
    "import string\n",
    "import warnings\n",
    "warnings.filterwarnings(action='ignore', category=FutureWarning)\n",
    "\n",
    "import nltk\n",
    "nltk.download('punkt')\n",
    "nltk.download('stopwords')\n",
    "nltk.download('wordnet')\n",
    "from nltk.stem import WordNetLemmatizer\n",
    "from nltk.tokenize import word_tokenize, sent_tokenize\n",
    "from nltk.corpus import stopwords\n",
    "from sklearn.feature_extraction.text import CountVectorizer, TfidfVectorizer\n",
    "from nltk import FreqDist"
   ]
  },
  {
   "cell_type": "code",
   "execution_count": 2,
   "id": "b45b01f2",
   "metadata": {},
   "outputs": [
    {
     "data": {
      "text/html": [
       "<div>\n",
       "<style scoped>\n",
       "    .dataframe tbody tr th:only-of-type {\n",
       "        vertical-align: middle;\n",
       "    }\n",
       "\n",
       "    .dataframe tbody tr th {\n",
       "        vertical-align: top;\n",
       "    }\n",
       "\n",
       "    .dataframe thead th {\n",
       "        text-align: right;\n",
       "    }\n",
       "</style>\n",
       "<table border=\"1\" class=\"dataframe\">\n",
       "  <thead>\n",
       "    <tr style=\"text-align: right;\">\n",
       "      <th></th>\n",
       "      <th>tweet_text</th>\n",
       "      <th>emotion_in_tweet_is_directed_at</th>\n",
       "      <th>is_there_an_emotion_directed_at_a_brand_or_product</th>\n",
       "    </tr>\n",
       "  </thead>\n",
       "  <tbody>\n",
       "    <tr>\n",
       "      <th>0</th>\n",
       "      <td>.@wesley83 I have a 3G iPhone. After 3 hrs twe...</td>\n",
       "      <td>iPhone</td>\n",
       "      <td>Negative emotion</td>\n",
       "    </tr>\n",
       "    <tr>\n",
       "      <th>1</th>\n",
       "      <td>@jessedee Know about @fludapp ? Awesome iPad/i...</td>\n",
       "      <td>iPad or iPhone App</td>\n",
       "      <td>Positive emotion</td>\n",
       "    </tr>\n",
       "    <tr>\n",
       "      <th>2</th>\n",
       "      <td>@swonderlin Can not wait for #iPad 2 also. The...</td>\n",
       "      <td>iPad</td>\n",
       "      <td>Positive emotion</td>\n",
       "    </tr>\n",
       "    <tr>\n",
       "      <th>3</th>\n",
       "      <td>@sxsw I hope this year's festival isn't as cra...</td>\n",
       "      <td>iPad or iPhone App</td>\n",
       "      <td>Negative emotion</td>\n",
       "    </tr>\n",
       "    <tr>\n",
       "      <th>4</th>\n",
       "      <td>@sxtxstate great stuff on Fri #SXSW: Marissa M...</td>\n",
       "      <td>Google</td>\n",
       "      <td>Positive emotion</td>\n",
       "    </tr>\n",
       "  </tbody>\n",
       "</table>\n",
       "</div>"
      ],
      "text/plain": [
       "                                          tweet_text  \\\n",
       "0  .@wesley83 I have a 3G iPhone. After 3 hrs twe...   \n",
       "1  @jessedee Know about @fludapp ? Awesome iPad/i...   \n",
       "2  @swonderlin Can not wait for #iPad 2 also. The...   \n",
       "3  @sxsw I hope this year's festival isn't as cra...   \n",
       "4  @sxtxstate great stuff on Fri #SXSW: Marissa M...   \n",
       "\n",
       "  emotion_in_tweet_is_directed_at  \\\n",
       "0                          iPhone   \n",
       "1              iPad or iPhone App   \n",
       "2                            iPad   \n",
       "3              iPad or iPhone App   \n",
       "4                          Google   \n",
       "\n",
       "  is_there_an_emotion_directed_at_a_brand_or_product  \n",
       "0                                   Negative emotion  \n",
       "1                                   Positive emotion  \n",
       "2                                   Positive emotion  \n",
       "3                                   Negative emotion  \n",
       "4                                   Positive emotion  "
      ]
     },
     "execution_count": 2,
     "metadata": {},
     "output_type": "execute_result"
    }
   ],
   "source": [
    "# loading and previewing data\n",
    "\n",
    "data = pd.read_csv('data.csv', encoding='ISO-8859-1')\n",
    "data.head()"
   ]
  },
  {
   "attachments": {},
   "cell_type": "markdown",
   "id": "5740a2ef",
   "metadata": {},
   "source": [
    "### Describing the dataset"
   ]
  },
  {
   "cell_type": "code",
   "execution_count": 3,
   "id": "f337913c",
   "metadata": {},
   "outputs": [],
   "source": [
    "# class to describe dataset\n",
    "\n",
    "class Describer:\n",
    "    \n",
    "    # initialize object\n",
    "    def __init__(self, df):\n",
    "        self.df = df\n",
    "        \n",
    "    # method to check shape of data\n",
    "    def shape(self):\n",
    "        out = print(f\"The DataFrame has:\\n\\t* {self.df.shape[0]} rows\\n\\t* {self.df.shape[1]} columns\", '\\n')\n",
    "        return out\n",
    "    \n",
    "    # method to check info on dataset\n",
    "    def data_info(self):\n",
    "        out = print(self.df.info(), '\\n')\n",
    "        return out\n",
    "    \n",
    "    # method to describe numerical columns\n",
    "    def data_describe(self):\n",
    "        out = self.df.describe()\n",
    "        return out"
   ]
  },
  {
   "cell_type": "code",
   "execution_count": 4,
   "id": "1975cc49",
   "metadata": {},
   "outputs": [
    {
     "name": "stdout",
     "output_type": "stream",
     "text": [
      "The DataFrame has:\n",
      "\t* 9093 rows\n",
      "\t* 3 columns \n",
      "\n"
     ]
    }
   ],
   "source": [
    "# creating an instance of the class describer\n",
    "describe_df = Describer(data)\n",
    "\n",
    "# lets view the shape of the data\n",
    "describe_df.shape()"
   ]
  },
  {
   "cell_type": "code",
   "execution_count": 5,
   "id": "7b6d0b6f",
   "metadata": {},
   "outputs": [
    {
     "name": "stdout",
     "output_type": "stream",
     "text": [
      "Summary infomation on dataset\n",
      "-----------------------------------------------\n",
      "<class 'pandas.core.frame.DataFrame'>\n",
      "RangeIndex: 9093 entries, 0 to 9092\n",
      "Data columns (total 3 columns):\n",
      " #   Column                                              Non-Null Count  Dtype \n",
      "---  ------                                              --------------  ----- \n",
      " 0   tweet_text                                          9092 non-null   object\n",
      " 1   emotion_in_tweet_is_directed_at                     3291 non-null   object\n",
      " 2   is_there_an_emotion_directed_at_a_brand_or_product  9093 non-null   object\n",
      "dtypes: object(3)\n",
      "memory usage: 213.2+ KB\n",
      "None \n",
      "\n"
     ]
    }
   ],
   "source": [
    "# lets print summary infomation on the dataset\n",
    "print('Summary infomation on dataset')\n",
    "print('-----------------------------------------------')\n",
    "describe_df.data_info()"
   ]
  },
  {
   "attachments": {},
   "cell_type": "markdown",
   "id": "010c48e1",
   "metadata": {},
   "source": [
    "### summary of data understanding"
   ]
  },
  {
   "attachments": {},
   "cell_type": "markdown",
   "id": "fe92c8b8",
   "metadata": {},
   "source": [
    "The dataset has 3 columns  namely:tweet_text, emotion_in_tweet_is_directed_at ,is_there_an_emotion_directed_at_a_brand_or_product\n",
    "\n",
    "The  dataset has 9093 rows\n",
    "\n",
    "All the  dataset's columns  datatypes are objects"
   ]
  },
  {
   "attachments": {},
   "cell_type": "markdown",
   "id": "19f4d3e6",
   "metadata": {},
   "source": [
    "## 3. Data Preparation "
   ]
  },
  {
   "attachments": {},
   "cell_type": "markdown",
   "id": "8c287d71",
   "metadata": {},
   "source": [
    "#### Introduction\n",
    "we will be preparing our data for analysis by checking for attributes such as missing values ,duplicates and other inconsistencies as computed below"
   ]
  },
  {
   "attachments": {},
   "cell_type": "markdown",
   "id": "bf864aee",
   "metadata": {},
   "source": [
    "### missing values"
   ]
  },
  {
   "cell_type": "code",
   "execution_count": 6,
   "id": "cddaa7a5",
   "metadata": {},
   "outputs": [
    {
     "name": "stdout",
     "output_type": "stream",
     "text": [
      "The Data has missing values.\n"
     ]
    }
   ],
   "source": [
    "# function to identify missing values\n",
    "\n",
    "# identify missing \n",
    "def identify_missing_values(data):\n",
    "    \"\"\"Identify is the data has missing values\"\"\"\n",
    "    # identify if data has missing values(data.isnull().any())\n",
    "    # empty dict to store missing values\n",
    "    missing = []\n",
    "    for i in data.isnull().any():\n",
    "        # add the bool values to empty list \n",
    "        missing.append(i)\n",
    "    # covert list to set (if data has missing value, the list should have true and false)\n",
    "    missing_set = set(missing)\n",
    "    if (len(missing_set) == 1):\n",
    "        out = print(\"The Data has no missing values\")\n",
    "    else:\n",
    "        out = print(\"The Data has missing values.\")\n",
    "\n",
    "    return out\n",
    "\n",
    "identify_missing_values(data)"
   ]
  },
  {
   "cell_type": "code",
   "execution_count": 7,
   "id": "ca833288",
   "metadata": {},
   "outputs": [
    {
     "data": {
      "text/html": [
       "<div>\n",
       "<style scoped>\n",
       "    .dataframe tbody tr th:only-of-type {\n",
       "        vertical-align: middle;\n",
       "    }\n",
       "\n",
       "    .dataframe tbody tr th {\n",
       "        vertical-align: top;\n",
       "    }\n",
       "\n",
       "    .dataframe thead th {\n",
       "        text-align: right;\n",
       "    }\n",
       "</style>\n",
       "<table border=\"1\" class=\"dataframe\">\n",
       "  <thead>\n",
       "    <tr style=\"text-align: right;\">\n",
       "      <th></th>\n",
       "      <th>Missing Values</th>\n",
       "      <th>Percentage(%)</th>\n",
       "    </tr>\n",
       "  </thead>\n",
       "  <tbody>\n",
       "    <tr>\n",
       "      <th>emotion_in_tweet_is_directed_at</th>\n",
       "      <td>5802</td>\n",
       "      <td>0.638073</td>\n",
       "    </tr>\n",
       "    <tr>\n",
       "      <th>tweet_text</th>\n",
       "      <td>1</td>\n",
       "      <td>0.000110</td>\n",
       "    </tr>\n",
       "  </tbody>\n",
       "</table>\n",
       "</div>"
      ],
      "text/plain": [
       "                                 Missing Values  Percentage(%)\n",
       "emotion_in_tweet_is_directed_at            5802       0.638073\n",
       "tweet_text                                    1       0.000110"
      ]
     },
     "execution_count": 7,
     "metadata": {},
     "output_type": "execute_result"
    }
   ],
   "source": [
    "# function to display missing values\n",
    "\n",
    "def missing_values(data):\n",
    "    \"\"\"A simple function to identify data has missing values\"\"\"\n",
    "    # identify the total missing values per column\n",
    "    # sort in order \n",
    "    miss = data.isnull().sum().sort_values(ascending = False)\n",
    "\n",
    "    # calculate percentage of the missing values\n",
    "    percentage_miss = (data.isnull().sum() / len(data)).sort_values(ascending = False)\n",
    "\n",
    "    # store in a dataframe \n",
    "    missing = pd.DataFrame({\"Missing Values\": miss, \"Percentage(%)\": percentage_miss})\n",
    "\n",
    "    # remove values that are missing \n",
    "    missing.drop(missing[missing[\"Percentage(%)\"] == 0].index, inplace = True)\n",
    "\n",
    "    return missing\n",
    "\n",
    "\n",
    "missing_values(data)\n"
   ]
  },
  {
   "cell_type": "code",
   "execution_count": 8,
   "id": "fcb2caef",
   "metadata": {},
   "outputs": [],
   "source": [
    "# dropping missing row in tweet_text\n",
    "\n",
    "data.dropna(axis=0,subset=['tweet_text'],inplace=True)"
   ]
  },
  {
   "cell_type": "code",
   "execution_count": 9,
   "id": "ea70fbc3",
   "metadata": {},
   "outputs": [
    {
     "data": {
      "text/plain": [
       "tweet_text                                            False\n",
       "emotion_in_tweet_is_directed_at                        True\n",
       "is_there_an_emotion_directed_at_a_brand_or_product    False\n",
       "dtype: bool"
      ]
     },
     "execution_count": 9,
     "metadata": {},
     "output_type": "execute_result"
    }
   ],
   "source": [
    "# confirmation\n",
    "\n",
    "data.isna().any()"
   ]
  },
  {
   "cell_type": "code",
   "execution_count": 10,
   "id": "f8da481b",
   "metadata": {},
   "outputs": [],
   "source": [
    "# replacing null values in recipient with nan\n",
    "\n",
    "data['emotion_in_tweet_is_directed_at'].fillna('none', inplace =True)"
   ]
  },
  {
   "cell_type": "code",
   "execution_count": 11,
   "id": "a787e4a8",
   "metadata": {},
   "outputs": [
    {
     "data": {
      "text/plain": [
       "none                               5801\n",
       "iPad                                946\n",
       "Apple                               661\n",
       "iPad or iPhone App                  470\n",
       "Google                              430\n",
       "iPhone                              297\n",
       "Other Google product or service     293\n",
       "Android App                          81\n",
       "Android                              78\n",
       "Other Apple product or service       35\n",
       "Name: emotion_in_tweet_is_directed_at, dtype: int64"
      ]
     },
     "execution_count": 11,
     "metadata": {},
     "output_type": "execute_result"
    }
   ],
   "source": [
    "data['emotion_in_tweet_is_directed_at'].value_counts()"
   ]
  },
  {
   "cell_type": "code",
   "execution_count": 12,
   "id": "f8584da0",
   "metadata": {},
   "outputs": [
    {
     "data": {
      "text/plain": [
       "tweet_text                                            False\n",
       "emotion_in_tweet_is_directed_at                       False\n",
       "is_there_an_emotion_directed_at_a_brand_or_product    False\n",
       "dtype: bool"
      ]
     },
     "execution_count": 12,
     "metadata": {},
     "output_type": "execute_result"
    }
   ],
   "source": [
    "data.isna().any()"
   ]
  },
  {
   "attachments": {},
   "cell_type": "markdown",
   "id": "843d0620",
   "metadata": {},
   "source": [
    "####  justification\n",
    "\n",
    "We discovered that there is ```0.01%``` missing values in tweet_text column and  ```63.81%``` missing values in emotion_in_tweet_is_directed_at column\n",
    "\n",
    "We replaced the missing values in the ```emotion tweet is directed at column``` with none for computational purposes and dropped the missing valuesin the ```tweet text```   column"
   ]
  },
  {
   "attachments": {},
   "cell_type": "markdown",
   "id": "7a1d36a8",
   "metadata": {},
   "source": [
    "### Duplicates"
   ]
  },
  {
   "cell_type": "code",
   "execution_count": 13,
   "id": "f2c714bd",
   "metadata": {},
   "outputs": [
    {
     "name": "stdout",
     "output_type": "stream",
     "text": [
      "The Data has 22 duplicated rows.\n",
      "This constitutes 0.242% of the data set.\n"
     ]
    }
   ],
   "source": [
    "# checking for duplicates\n",
    "\n",
    "# Duplicated entries\n",
    "def identify_duplicates(data):\n",
    "    \"\"\"Simple function to identify any duplicates\"\"\"\n",
    "    # identify the duplicates (dataframename.duplicated() , can add .sum() to get total count)\n",
    "    # empty list to store Bool results from duplicated\n",
    "    duplicates = []\n",
    "    for i in data.duplicated():\n",
    "        duplicates.append(i)\n",
    "    # identify if there is any duplicates. (If there is any we expect a True value in the list duplicates)\n",
    "    duplicates_set = set(duplicates) \n",
    "    if (len(duplicates_set) == 1):\n",
    "        print(\"The Data has no duplicates\")\n",
    "    else:\n",
    "        no_true = 0\n",
    "        for val in duplicates:\n",
    "            if (val == True):\n",
    "                no_true += 1\n",
    "        # percentage of the data represented by duplicates \n",
    "        duplicates_percentage = np.round(((no_true / len(data)) * 100), 3)\n",
    "        print(f\"The Data has {no_true} duplicated rows.\\nThis constitutes {duplicates_percentage}% of the data set.\") \n",
    "\n",
    "\n",
    "\n",
    "identify_duplicates(data)"
   ]
  },
  {
   "cell_type": "code",
   "execution_count": 14,
   "id": "1edc7ccc",
   "metadata": {},
   "outputs": [
    {
     "data": {
      "text/plain": [
       "22"
      ]
     },
     "execution_count": 14,
     "metadata": {},
     "output_type": "execute_result"
    }
   ],
   "source": [
    "data.duplicated().sum()"
   ]
  },
  {
   "cell_type": "code",
   "execution_count": 15,
   "id": "2576ee38",
   "metadata": {},
   "outputs": [
    {
     "name": "stdout",
     "output_type": "stream",
     "text": [
      "The Data has no duplicates\n"
     ]
    }
   ],
   "source": [
    "# handling the duplicates \n",
    "def remove_duplicated_rows(data):\n",
    "    \"\"\"Simple Function to remove duplicated rows\"\"\"\n",
    "    data.drop_duplicates(subset=None, keep=\"first\", inplace=True)\n",
    "    # confirm if the duplicated rows have been removed\n",
    "    confirm = identify_duplicates(data)\n",
    "\n",
    "    return confirm \n",
    "\n",
    "\n",
    "remove_duplicated_rows(data)"
   ]
  },
  {
   "attachments": {},
   "cell_type": "markdown",
   "id": "640d05fa",
   "metadata": {},
   "source": [
    "#### summary\n",
    "We found out that the tweet text column had 22 duplicates ```( 0.242% )``` and went ahead and  dropped  them."
   ]
  },
  {
   "cell_type": "code",
   "execution_count": 16,
   "id": "d027ecdf",
   "metadata": {},
   "outputs": [
    {
     "data": {
      "text/html": [
       "<div>\n",
       "<style scoped>\n",
       "    .dataframe tbody tr th:only-of-type {\n",
       "        vertical-align: middle;\n",
       "    }\n",
       "\n",
       "    .dataframe tbody tr th {\n",
       "        vertical-align: top;\n",
       "    }\n",
       "\n",
       "    .dataframe thead th {\n",
       "        text-align: right;\n",
       "    }\n",
       "</style>\n",
       "<table border=\"1\" class=\"dataframe\">\n",
       "  <thead>\n",
       "    <tr style=\"text-align: right;\">\n",
       "      <th></th>\n",
       "      <th>tweet_text</th>\n",
       "      <th>recipient</th>\n",
       "      <th>emotion</th>\n",
       "    </tr>\n",
       "  </thead>\n",
       "  <tbody>\n",
       "    <tr>\n",
       "      <th>0</th>\n",
       "      <td>.@wesley83 I have a 3G iPhone. After 3 hrs twe...</td>\n",
       "      <td>iPhone</td>\n",
       "      <td>Negative emotion</td>\n",
       "    </tr>\n",
       "    <tr>\n",
       "      <th>1</th>\n",
       "      <td>@jessedee Know about @fludapp ? Awesome iPad/i...</td>\n",
       "      <td>iPad or iPhone App</td>\n",
       "      <td>Positive emotion</td>\n",
       "    </tr>\n",
       "    <tr>\n",
       "      <th>2</th>\n",
       "      <td>@swonderlin Can not wait for #iPad 2 also. The...</td>\n",
       "      <td>iPad</td>\n",
       "      <td>Positive emotion</td>\n",
       "    </tr>\n",
       "    <tr>\n",
       "      <th>3</th>\n",
       "      <td>@sxsw I hope this year's festival isn't as cra...</td>\n",
       "      <td>iPad or iPhone App</td>\n",
       "      <td>Negative emotion</td>\n",
       "    </tr>\n",
       "    <tr>\n",
       "      <th>4</th>\n",
       "      <td>@sxtxstate great stuff on Fri #SXSW: Marissa M...</td>\n",
       "      <td>Google</td>\n",
       "      <td>Positive emotion</td>\n",
       "    </tr>\n",
       "  </tbody>\n",
       "</table>\n",
       "</div>"
      ],
      "text/plain": [
       "                                          tweet_text           recipient  \\\n",
       "0  .@wesley83 I have a 3G iPhone. After 3 hrs twe...              iPhone   \n",
       "1  @jessedee Know about @fludapp ? Awesome iPad/i...  iPad or iPhone App   \n",
       "2  @swonderlin Can not wait for #iPad 2 also. The...                iPad   \n",
       "3  @sxsw I hope this year's festival isn't as cra...  iPad or iPhone App   \n",
       "4  @sxtxstate great stuff on Fri #SXSW: Marissa M...              Google   \n",
       "\n",
       "            emotion  \n",
       "0  Negative emotion  \n",
       "1  Positive emotion  \n",
       "2  Positive emotion  \n",
       "3  Negative emotion  \n",
       "4  Positive emotion  "
      ]
     },
     "execution_count": 16,
     "metadata": {},
     "output_type": "execute_result"
    }
   ],
   "source": [
    "# renaming the columns\n",
    "data = data.rename(columns={'emotion_in_tweet_is_directed_at':'recipient',\n",
    "                    'is_there_an_emotion_directed_at_a_brand_or_product':'emotion'})\n",
    "data.head()"
   ]
  },
  {
   "attachments": {},
   "cell_type": "markdown",
   "id": "79920f4c",
   "metadata": {},
   "source": [
    "```Insight```\n",
    "We renamed  the column ```emotion_in_tweet_is_directed_at``` to ```recipient``` and the column ```is_there_an_emotion_directed_at_a_brand_or_product``` to ```emotion``` to enhance clarity and facilitate their usage in our subsequent computation"
   ]
  },
  {
   "attachments": {},
   "cell_type": "markdown",
   "id": "9ef4dcad",
   "metadata": {},
   "source": [
    "\n",
    "## 4. EDA"
   ]
  },
  {
   "cell_type": "markdown",
   "id": "1d64fc6f",
   "metadata": {},
   "source": [
    "#### Introduction\n",
    "\n",
    "We  will conduct Univariate and Bivariate analysis of the sentiments and create visualizations  to see how they relate with each other and individually.\n"
   ]
  },
  {
   "attachments": {},
   "cell_type": "markdown",
   "id": "b30706de",
   "metadata": {},
   "source": [
    "### Univariate analysis\n"
   ]
  },
  {
   "cell_type": "code",
   "execution_count": 18,
   "id": "5549152b",
   "metadata": {},
   "outputs": [
    {
     "name": "stdout",
     "output_type": "stream",
     "text": [
      "No emotion toward brand or product    59.261301\n",
      "Positive emotion                      32.745314\n",
      "Negative emotion                       6.273429\n",
      "I can't tell                           1.719956\n",
      "Name: emotion, dtype: float64\n"
     ]
    },
    {
     "data": {
      "image/png": "[encoded data removed]",
      "text/plain": [
       "<Figure size 864x504 with 1 Axes>"
      ]
     },
     "metadata": {
      "needs_background": "light"
     },
     "output_type": "display_data"
    }
   ],
   "source": [
    "# checking the distribution of emotions\n",
    "\n",
    "percentage = data['emotion'].value_counts(normalize=True)\n",
    "print(percentage * 100)\n",
    "\n",
    "# count plot\n",
    "plt.figure(figsize=(12, 7))\n",
    "sns.countplot(data['emotion']);"
   ]
  },
  {
   "attachments": {},
   "cell_type": "markdown",
   "id": "d9a0e832",
   "metadata": {},
   "source": [
    "# Observation\n",
    "\n",
    "We see that majority of  people had  ```No emotion toward brand or product``` at ```59.26%``` followed by people with ```Positive emotions ``` at ```32.75%```\n",
    "\n",
    "```I can't tell``` makes up less than ```2%``` of our dataset, and doesn't offer much more information in the way of word significance than the tweets labeled No emotion toward brand or product. We will drop records where emotion has been recorded as ```I can't tell```."
   ]
  },
  {
   "attachments": {},
   "cell_type": "markdown",
   "id": "489026c6",
   "metadata": {},
   "source": [
    "### Bivariate analysis"
   ]
  },
  {
   "cell_type": "code",
   "execution_count": 19,
   "id": "07a20f3d",
   "metadata": {},
   "outputs": [
    {
     "data": {
      "image/png": "[encoded data removed]",
      "text/plain": [
       "<Figure size 1512x504 with 1 Axes>"
      ]
     },
     "metadata": {
      "needs_background": "light"
     },
     "output_type": "display_data"
    }
   ],
   "source": [
    "# lets see see sentiment distribution product-wise\n",
    "recipient_group = data.groupby('recipient')['emotion'].value_counts().reset_index(name='count')\n",
    "# Calculate the ascending order of states based on churn count\n",
    "ascending_order = recipient_group.groupby('recipient')['count'].sum().sort_values().index\n",
    "\n",
    "plt.figure(figsize=(21,7))\n",
    "sns.barplot(x='recipient', y='count', hue='emotion', data=recipient_group, order=ascending_order)\n",
    "plt.xlabel('recipients')\n",
    "plt.ylabel('Count')\n",
    "plt.title('Sentiment Count Distribution')\n",
    "plt.show()"
   ]
  },
  {
   "attachments": {},
   "cell_type": "markdown",
   "id": "386c63ea",
   "metadata": {},
   "source": [
    "# Interpretation\n",
    "\n",
    "From the graph above  ```Ipad```  had the ```highest positive emotions``` followed by ```Apple```"
   ]
  },
  {
   "cell_type": "code",
   "execution_count": 20,
   "id": "f15bd170",
   "metadata": {},
   "outputs": [
    {
     "data": {
      "text/plain": [
       "none                               5788\n",
       "iPad                                945\n",
       "Apple                               659\n",
       "iPad or iPhone App                  469\n",
       "Google                              428\n",
       "iPhone                              296\n",
       "Other Google product or service     293\n",
       "Android App                          80\n",
       "Android                              77\n",
       "Other Apple product or service       35\n",
       "Name: recipient, dtype: int64"
      ]
     },
     "execution_count": 20,
     "metadata": {},
     "output_type": "execute_result"
    }
   ],
   "source": [
    "data['recipient'].value_counts()"
   ]
  },
  {
   "cell_type": "code",
   "execution_count": 21,
   "id": "24fdcb0e",
   "metadata": {},
   "outputs": [],
   "source": [
    "# overall brand distribution\n",
    "\n",
    "# feature engineering\n",
    "data['brand'] = data['recipient'].map({'Other Apple product or service': 'Apple', \n",
    "                                           'Android': 'Google',\n",
    "                                           'Android App': 'Google',\n",
    "                                           'Other Google product or service ': 'Google',\n",
    "                                           'iPhone': 'Apple', \n",
    "                                           'Google':'Google',\n",
    "                                           'iPad or iPhone App': 'Apple',\n",
    "                                           'Apple':'Apple',\n",
    "                                           'iPad':'Apple',\n",
    "                                           'none': 'none'})\n",
    "\n"
   ]
  },
  {
   "cell_type": "code",
   "execution_count": 22,
   "id": "cb70f86d",
   "metadata": {},
   "outputs": [
    {
     "data": {
      "text/html": [
       "<div>\n",
       "<style scoped>\n",
       "    .dataframe tbody tr th:only-of-type {\n",
       "        vertical-align: middle;\n",
       "    }\n",
       "\n",
       "    .dataframe tbody tr th {\n",
       "        vertical-align: top;\n",
       "    }\n",
       "\n",
       "    .dataframe thead th {\n",
       "        text-align: right;\n",
       "    }\n",
       "</style>\n",
       "<table border=\"1\" class=\"dataframe\">\n",
       "  <thead>\n",
       "    <tr style=\"text-align: right;\">\n",
       "      <th></th>\n",
       "      <th>tweet_text</th>\n",
       "      <th>recipient</th>\n",
       "      <th>emotion</th>\n",
       "      <th>brand</th>\n",
       "    </tr>\n",
       "  </thead>\n",
       "  <tbody>\n",
       "    <tr>\n",
       "      <th>0</th>\n",
       "      <td>.@wesley83 I have a 3G iPhone. After 3 hrs twe...</td>\n",
       "      <td>iPhone</td>\n",
       "      <td>Negative emotion</td>\n",
       "      <td>Apple</td>\n",
       "    </tr>\n",
       "    <tr>\n",
       "      <th>1</th>\n",
       "      <td>@jessedee Know about @fludapp ? Awesome iPad/i...</td>\n",
       "      <td>iPad or iPhone App</td>\n",
       "      <td>Positive emotion</td>\n",
       "      <td>Apple</td>\n",
       "    </tr>\n",
       "    <tr>\n",
       "      <th>2</th>\n",
       "      <td>@swonderlin Can not wait for #iPad 2 also. The...</td>\n",
       "      <td>iPad</td>\n",
       "      <td>Positive emotion</td>\n",
       "      <td>Apple</td>\n",
       "    </tr>\n",
       "  </tbody>\n",
       "</table>\n",
       "</div>"
      ],
      "text/plain": [
       "                                          tweet_text           recipient  \\\n",
       "0  .@wesley83 I have a 3G iPhone. After 3 hrs twe...              iPhone   \n",
       "1  @jessedee Know about @fludapp ? Awesome iPad/i...  iPad or iPhone App   \n",
       "2  @swonderlin Can not wait for #iPad 2 also. The...                iPad   \n",
       "\n",
       "            emotion  brand  \n",
       "0  Negative emotion  Apple  \n",
       "1  Positive emotion  Apple  \n",
       "2  Positive emotion  Apple  "
      ]
     },
     "execution_count": 22,
     "metadata": {},
     "output_type": "execute_result"
    }
   ],
   "source": [
    "data.head(3)"
   ]
  },
  {
   "cell_type": "code",
   "execution_count": 23,
   "id": "67742b9b",
   "metadata": {},
   "outputs": [
    {
     "name": "stdout",
     "output_type": "stream",
     "text": [
      "none      65.945084\n",
      "Apple     27.389769\n",
      "Google     6.665148\n",
      "Name: brand, dtype: float64\n"
     ]
    },
    {
     "data": {
      "image/png": "[encoded data removed]",
      "text/plain": [
       "<Figure size 864x504 with 1 Axes>"
      ]
     },
     "metadata": {
      "needs_background": "light"
     },
     "output_type": "display_data"
    }
   ],
   "source": [
    "# checking the distribution of brand sentiment\n",
    "\n",
    "percentage = data['brand'].value_counts(normalize=True)\n",
    "print(percentage * 100)\n",
    "\n",
    "# count plot\n",
    "plt.figure(figsize=(12, 7))\n",
    "sns.countplot(data['brand']);"
   ]
  },
  {
   "attachments": {},
   "cell_type": "markdown",
   "id": "57e7ddd6",
   "metadata": {},
   "source": [
    "#### ***Insight***\n",
    "\n",
    "From the graph above Majority of people had not specified the brand, and for those who did, ```Apple``` had the highest sentiment feedback as compared to ```Google```"
   ]
  },
  {
   "cell_type": "code",
   "execution_count": 24,
   "id": "92ea3c55",
   "metadata": {},
   "outputs": [
    {
     "data": {
      "image/png": "[encoded data removed]",
      "text/plain": [
       "<Figure size 1512x504 with 1 Axes>"
      ]
     },
     "metadata": {
      "needs_background": "light"
     },
     "output_type": "display_data"
    }
   ],
   "source": [
    "# lets see see sentiment distribution brand-wise\n",
    "brand_group = data.groupby('brand')['emotion'].value_counts().reset_index(name='count')\n",
    "# Calculate the ascending order of states based on churn count\n",
    "ascending_order = brand_group.groupby('brand')['count'].sum().sort_values().index\n",
    "\n",
    "plt.figure(figsize=(21,7))\n",
    "sns.barplot(x='brand', y='count', hue='emotion', data=brand_group, order=ascending_order)\n",
    "plt.xlabel('brand')\n",
    "plt.ylabel('Count')\n",
    "plt.title('Sentiment Count Distribution')\n",
    "plt.show()"
   ]
  },
  {
   "attachments": {},
   "cell_type": "markdown",
   "id": "7ba8733b",
   "metadata": {},
   "source": [
    "#### ***Intepretation***\n",
    "\n",
    "From the graph above ```Apple``` had the highest ```positive emotions``` compared to ```Google```"
   ]
  },
  {
   "attachments": {},
   "cell_type": "markdown",
   "id": "d968171c",
   "metadata": {},
   "source": [
    "## 5. Preprocessing\n",
    "\n",
    "### *** Introduction***\n",
    "\n",
    "In this section we will make the tweets lower case, remove html tags ,remove the Url , expand the contradictions ,remove the punctuations ,tokenize ,remove stopwords and lemmatize the tweet"
   ]
  },
  {
   "cell_type": "code",
   "execution_count": 25,
   "id": "5c2f8e0f",
   "metadata": {},
   "outputs": [
    {
     "data": {
      "text/plain": [
       "Index(['tweet_text', 'recipient', 'emotion', 'brand'], dtype='object')"
      ]
     },
     "execution_count": 25,
     "metadata": {},
     "output_type": "execute_result"
    }
   ],
   "source": [
    "data.columns"
   ]
  },
  {
   "cell_type": "code",
   "execution_count": 26,
   "id": "c5c3e206",
   "metadata": {},
   "outputs": [
    {
     "data": {
      "text/html": [
       "<div>\n",
       "<style scoped>\n",
       "    .dataframe tbody tr th:only-of-type {\n",
       "        vertical-align: middle;\n",
       "    }\n",
       "\n",
       "    .dataframe tbody tr th {\n",
       "        vertical-align: top;\n",
       "    }\n",
       "\n",
       "    .dataframe thead th {\n",
       "        text-align: right;\n",
       "    }\n",
       "</style>\n",
       "<table border=\"1\" class=\"dataframe\">\n",
       "  <thead>\n",
       "    <tr style=\"text-align: right;\">\n",
       "      <th></th>\n",
       "      <th>tweet_text</th>\n",
       "      <th>recipient</th>\n",
       "      <th>emotion</th>\n",
       "      <th>brand</th>\n",
       "    </tr>\n",
       "  </thead>\n",
       "  <tbody>\n",
       "    <tr>\n",
       "      <th>0</th>\n",
       "      <td>.@wesley83 i have a 3g iphone. after 3 hrs twe...</td>\n",
       "      <td>iPhone</td>\n",
       "      <td>Negative emotion</td>\n",
       "      <td>Apple</td>\n",
       "    </tr>\n",
       "    <tr>\n",
       "      <th>1</th>\n",
       "      <td>@jessedee know about @fludapp ? awesome ipad/i...</td>\n",
       "      <td>iPad or iPhone App</td>\n",
       "      <td>Positive emotion</td>\n",
       "      <td>Apple</td>\n",
       "    </tr>\n",
       "  </tbody>\n",
       "</table>\n",
       "</div>"
      ],
      "text/plain": [
       "                                          tweet_text           recipient  \\\n",
       "0  .@wesley83 i have a 3g iphone. after 3 hrs twe...              iPhone   \n",
       "1  @jessedee know about @fludapp ? awesome ipad/i...  iPad or iPhone App   \n",
       "\n",
       "            emotion  brand  \n",
       "0  Negative emotion  Apple  \n",
       "1  Positive emotion  Apple  "
      ]
     },
     "execution_count": 26,
     "metadata": {},
     "output_type": "execute_result"
    }
   ],
   "source": [
    "# normalizing the data to lowecase\n",
    "data['tweet_text'] = data['tweet_text'].str.lower()\n",
    "data.head(2)"
   ]
  },
  {
   "cell_type": "code",
   "execution_count": 27,
   "id": "64cce4d3",
   "metadata": {},
   "outputs": [
    {
     "data": {
      "text/plain": [
       "'great #sxsw ipad app from @madebymany: http://tinyurl.com/4nqv92l'"
      ]
     },
     "execution_count": 27,
     "metadata": {},
     "output_type": "execute_result"
    }
   ],
   "source": [
    "data['tweet_text'][14]"
   ]
  },
  {
   "cell_type": "code",
   "execution_count": 28,
   "id": "fb44dd8f",
   "metadata": {},
   "outputs": [],
   "source": [
    "# removing the html tags\n",
    "def remove_html(review):\n",
    "    pattern = re.compile('<.*?>')\n",
    "    return pattern.sub(r'', review)\n",
    "\n",
    "data['tweet_text'] = data['tweet_text'].apply(remove_html)"
   ]
  },
  {
   "cell_type": "code",
   "execution_count": 29,
   "id": "90128aef",
   "metadata": {},
   "outputs": [],
   "source": [
    "# removing URL and @ sign\n",
    "\n",
    "def preprocess_text_removingq_URLand_atsign(text):\n",
    "    # Remove URLs\n",
    "    clean_text = re.sub(r\"http\\S+|www\\S+|https\\S+\", \"\", text)\n",
    "    text = re.sub(r'@[^\\s]+', 'user', clean_text)\n",
    "    # Other preprocessing steps like removing punctuation, converting to lowercase, etc.\n",
    "    # ...\n",
    "    return text\n",
    "\n",
    "data['tweet_text'] = data['tweet_text'].apply(preprocess_text_removingq_URLand_atsign)"
   ]
  },
  {
   "cell_type": "code",
   "execution_count": 30,
   "id": "b1c8752c",
   "metadata": {},
   "outputs": [
    {
     "data": {
      "text/plain": [
       "'great #sxsw ipad app from user '"
      ]
     },
     "execution_count": 30,
     "metadata": {},
     "output_type": "execute_result"
    }
   ],
   "source": [
    "data['tweet_text'][14]"
   ]
  },
  {
   "cell_type": "code",
   "execution_count": 31,
   "id": "ed714674",
   "metadata": {},
   "outputs": [
    {
     "data": {
      "text/html": [
       "<div>\n",
       "<style scoped>\n",
       "    .dataframe tbody tr th:only-of-type {\n",
       "        vertical-align: middle;\n",
       "    }\n",
       "\n",
       "    .dataframe tbody tr th {\n",
       "        vertical-align: top;\n",
       "    }\n",
       "\n",
       "    .dataframe thead th {\n",
       "        text-align: right;\n",
       "    }\n",
       "</style>\n",
       "<table border=\"1\" class=\"dataframe\">\n",
       "  <thead>\n",
       "    <tr style=\"text-align: right;\">\n",
       "      <th></th>\n",
       "      <th>tweet_text</th>\n",
       "      <th>recipient</th>\n",
       "      <th>emotion</th>\n",
       "      <th>brand</th>\n",
       "    </tr>\n",
       "  </thead>\n",
       "  <tbody>\n",
       "    <tr>\n",
       "      <th>0</th>\n",
       "      <td>.user i have a 3g iphone. after 3 hrs tweeting...</td>\n",
       "      <td>iPhone</td>\n",
       "      <td>Negative emotion</td>\n",
       "      <td>Apple</td>\n",
       "    </tr>\n",
       "    <tr>\n",
       "      <th>1</th>\n",
       "      <td>user know about user ? awesome ipad/iphone app...</td>\n",
       "      <td>iPad or iPhone App</td>\n",
       "      <td>Positive emotion</td>\n",
       "      <td>Apple</td>\n",
       "    </tr>\n",
       "    <tr>\n",
       "      <th>2</th>\n",
       "      <td>user can not wait for #ipad 2 also. they shoul...</td>\n",
       "      <td>iPad</td>\n",
       "      <td>Positive emotion</td>\n",
       "      <td>Apple</td>\n",
       "    </tr>\n",
       "    <tr>\n",
       "      <th>3</th>\n",
       "      <td>user i hope this year's festival isn't as cras...</td>\n",
       "      <td>iPad or iPhone App</td>\n",
       "      <td>Negative emotion</td>\n",
       "      <td>Apple</td>\n",
       "    </tr>\n",
       "    <tr>\n",
       "      <th>4</th>\n",
       "      <td>user great stuff on fri #sxsw: marissa mayer (...</td>\n",
       "      <td>Google</td>\n",
       "      <td>Positive emotion</td>\n",
       "      <td>Google</td>\n",
       "    </tr>\n",
       "  </tbody>\n",
       "</table>\n",
       "</div>"
      ],
      "text/plain": [
       "                                          tweet_text           recipient  \\\n",
       "0  .user i have a 3g iphone. after 3 hrs tweeting...              iPhone   \n",
       "1  user know about user ? awesome ipad/iphone app...  iPad or iPhone App   \n",
       "2  user can not wait for #ipad 2 also. they shoul...                iPad   \n",
       "3  user i hope this year's festival isn't as cras...  iPad or iPhone App   \n",
       "4  user great stuff on fri #sxsw: marissa mayer (...              Google   \n",
       "\n",
       "            emotion   brand  \n",
       "0  Negative emotion   Apple  \n",
       "1  Positive emotion   Apple  \n",
       "2  Positive emotion   Apple  \n",
       "3  Negative emotion   Apple  \n",
       "4  Positive emotion  Google  "
      ]
     },
     "execution_count": 31,
     "metadata": {},
     "output_type": "execute_result"
    }
   ],
   "source": [
    "data.head()"
   ]
  },
  {
   "cell_type": "code",
   "execution_count": 32,
   "id": "4d657570",
   "metadata": {},
   "outputs": [],
   "source": [
    "# function to remove hash, not alphabet "
   ]
  },
  {
   "cell_type": "code",
   "execution_count": 33,
   "id": "48718a81",
   "metadata": {},
   "outputs": [],
   "source": [
    "# expanding the contractions (is-nots)\n",
    "\n",
    "import contractions\n",
    "#from nltk.stem import WordNetLemmatizer\n",
    "\n",
    "def expand(text):\n",
    "    # Expand contractions\n",
    "    expanded_text = contractions.fix(text)\n",
    "\n",
    "    return expanded_text\n",
    "\n",
    "data['tweet_text'] = data['tweet_text'].apply(expand)"
   ]
  },
  {
   "cell_type": "code",
   "execution_count": 34,
   "id": "af1f1e43",
   "metadata": {},
   "outputs": [
    {
     "data": {
      "text/plain": [
       "\"user i hope this year's festival is not as crashy as this year's iphone app. #sxsw\""
      ]
     },
     "execution_count": 34,
     "metadata": {},
     "output_type": "execute_result"
    }
   ],
   "source": [
    "data.tweet_text[3]"
   ]
  },
  {
   "cell_type": "code",
   "execution_count": 35,
   "id": "d9608833",
   "metadata": {},
   "outputs": [
    {
     "name": "stdout",
     "output_type": "stream",
     "text": [
      "!\"#$%&'()*+,-./:;<=>?@[\\]^_`{|}~\n"
     ]
    }
   ],
   "source": [
    "# punctuation\n",
    "exclude = string.punctuation\n",
    "print(exclude)"
   ]
  },
  {
   "cell_type": "code",
   "execution_count": 36,
   "id": "91560234",
   "metadata": {},
   "outputs": [],
   "source": [
    "# remove punctuations\n",
    "def remove_punctuations(tweet):\n",
    "    return tweet.translate(str.maketrans('','',exclude))"
   ]
  },
  {
   "cell_type": "code",
   "execution_count": 37,
   "id": "76baab84",
   "metadata": {},
   "outputs": [
    {
     "data": {
      "text/html": [
       "<div>\n",
       "<style scoped>\n",
       "    .dataframe tbody tr th:only-of-type {\n",
       "        vertical-align: middle;\n",
       "    }\n",
       "\n",
       "    .dataframe tbody tr th {\n",
       "        vertical-align: top;\n",
       "    }\n",
       "\n",
       "    .dataframe thead th {\n",
       "        text-align: right;\n",
       "    }\n",
       "</style>\n",
       "<table border=\"1\" class=\"dataframe\">\n",
       "  <thead>\n",
       "    <tr style=\"text-align: right;\">\n",
       "      <th></th>\n",
       "      <th>tweet_text</th>\n",
       "      <th>recipient</th>\n",
       "      <th>emotion</th>\n",
       "      <th>brand</th>\n",
       "    </tr>\n",
       "  </thead>\n",
       "  <tbody>\n",
       "    <tr>\n",
       "      <th>0</th>\n",
       "      <td>user i have a 3g iphone after 3 hrs tweeting a...</td>\n",
       "      <td>iPhone</td>\n",
       "      <td>Negative emotion</td>\n",
       "      <td>Apple</td>\n",
       "    </tr>\n",
       "    <tr>\n",
       "      <th>1</th>\n",
       "      <td>user know about user  awesome ipadiphone app t...</td>\n",
       "      <td>iPad or iPhone App</td>\n",
       "      <td>Positive emotion</td>\n",
       "      <td>Apple</td>\n",
       "    </tr>\n",
       "    <tr>\n",
       "      <th>2</th>\n",
       "      <td>user can not wait for ipad 2 also they should ...</td>\n",
       "      <td>iPad</td>\n",
       "      <td>Positive emotion</td>\n",
       "      <td>Apple</td>\n",
       "    </tr>\n",
       "    <tr>\n",
       "      <th>3</th>\n",
       "      <td>user i hope this years festival is not as cras...</td>\n",
       "      <td>iPad or iPhone App</td>\n",
       "      <td>Negative emotion</td>\n",
       "      <td>Apple</td>\n",
       "    </tr>\n",
       "    <tr>\n",
       "      <th>4</th>\n",
       "      <td>user great stuff on fri sxsw marissa mayer goo...</td>\n",
       "      <td>Google</td>\n",
       "      <td>Positive emotion</td>\n",
       "      <td>Google</td>\n",
       "    </tr>\n",
       "  </tbody>\n",
       "</table>\n",
       "</div>"
      ],
      "text/plain": [
       "                                          tweet_text           recipient  \\\n",
       "0  user i have a 3g iphone after 3 hrs tweeting a...              iPhone   \n",
       "1  user know about user  awesome ipadiphone app t...  iPad or iPhone App   \n",
       "2  user can not wait for ipad 2 also they should ...                iPad   \n",
       "3  user i hope this years festival is not as cras...  iPad or iPhone App   \n",
       "4  user great stuff on fri sxsw marissa mayer goo...              Google   \n",
       "\n",
       "            emotion   brand  \n",
       "0  Negative emotion   Apple  \n",
       "1  Positive emotion   Apple  \n",
       "2  Positive emotion   Apple  \n",
       "3  Negative emotion   Apple  \n",
       "4  Positive emotion  Google  "
      ]
     },
     "execution_count": 37,
     "metadata": {},
     "output_type": "execute_result"
    }
   ],
   "source": [
    "data['tweet_text']=data['tweet_text'].apply(remove_punctuations)\n",
    "data.head()"
   ]
  },
  {
   "cell_type": "code",
   "execution_count": 38,
   "id": "673d0ede",
   "metadata": {},
   "outputs": [
    {
     "data": {
      "text/plain": [
       "'need to buy an ipad2 while i am in austin at sxsw not sure if i will need to q up at an austin apple store'"
      ]
     },
     "execution_count": 38,
     "metadata": {},
     "output_type": "execute_result"
    }
   ],
   "source": [
    "data.tweet_text[20]"
   ]
  },
  {
   "attachments": {},
   "cell_type": "markdown",
   "id": "8da0f8c4",
   "metadata": {},
   "source": [
    "#### Tokenization"
   ]
  },
  {
   "cell_type": "code",
   "execution_count": 39,
   "id": "0dfc16a8",
   "metadata": {},
   "outputs": [
    {
     "data": {
      "text/html": [
       "<div>\n",
       "<style scoped>\n",
       "    .dataframe tbody tr th:only-of-type {\n",
       "        vertical-align: middle;\n",
       "    }\n",
       "\n",
       "    .dataframe tbody tr th {\n",
       "        vertical-align: top;\n",
       "    }\n",
       "\n",
       "    .dataframe thead th {\n",
       "        text-align: right;\n",
       "    }\n",
       "</style>\n",
       "<table border=\"1\" class=\"dataframe\">\n",
       "  <thead>\n",
       "    <tr style=\"text-align: right;\">\n",
       "      <th></th>\n",
       "      <th>tweet_text</th>\n",
       "      <th>recipient</th>\n",
       "      <th>emotion</th>\n",
       "      <th>brand</th>\n",
       "    </tr>\n",
       "  </thead>\n",
       "  <tbody>\n",
       "    <tr>\n",
       "      <th>0</th>\n",
       "      <td>[user, i, have, a, 3g, iphone, after, 3, hrs, ...</td>\n",
       "      <td>iPhone</td>\n",
       "      <td>Negative emotion</td>\n",
       "      <td>Apple</td>\n",
       "    </tr>\n",
       "    <tr>\n",
       "      <th>1</th>\n",
       "      <td>[user, know, about, user, awesome, ipadiphone,...</td>\n",
       "      <td>iPad or iPhone App</td>\n",
       "      <td>Positive emotion</td>\n",
       "      <td>Apple</td>\n",
       "    </tr>\n",
       "    <tr>\n",
       "      <th>2</th>\n",
       "      <td>[user, can, not, wait, for, ipad, 2, also, the...</td>\n",
       "      <td>iPad</td>\n",
       "      <td>Positive emotion</td>\n",
       "      <td>Apple</td>\n",
       "    </tr>\n",
       "    <tr>\n",
       "      <th>3</th>\n",
       "      <td>[user, i, hope, this, years, festival, is, not...</td>\n",
       "      <td>iPad or iPhone App</td>\n",
       "      <td>Negative emotion</td>\n",
       "      <td>Apple</td>\n",
       "    </tr>\n",
       "    <tr>\n",
       "      <th>4</th>\n",
       "      <td>[user, great, stuff, on, fri, sxsw, marissa, m...</td>\n",
       "      <td>Google</td>\n",
       "      <td>Positive emotion</td>\n",
       "      <td>Google</td>\n",
       "    </tr>\n",
       "  </tbody>\n",
       "</table>\n",
       "</div>"
      ],
      "text/plain": [
       "                                          tweet_text           recipient  \\\n",
       "0  [user, i, have, a, 3g, iphone, after, 3, hrs, ...              iPhone   \n",
       "1  [user, know, about, user, awesome, ipadiphone,...  iPad or iPhone App   \n",
       "2  [user, can, not, wait, for, ipad, 2, also, the...                iPad   \n",
       "3  [user, i, hope, this, years, festival, is, not...  iPad or iPhone App   \n",
       "4  [user, great, stuff, on, fri, sxsw, marissa, m...              Google   \n",
       "\n",
       "            emotion   brand  \n",
       "0  Negative emotion   Apple  \n",
       "1  Positive emotion   Apple  \n",
       "2  Positive emotion   Apple  \n",
       "3  Negative emotion   Apple  \n",
       "4  Positive emotion  Google  "
      ]
     },
     "execution_count": 39,
     "metadata": {},
     "output_type": "execute_result"
    }
   ],
   "source": [
    "# tokenize the tweets\n",
    "def tokenize_text(tweet):\n",
    "    return word_tokenize(tweet)\n",
    "\n",
    "data['tweet_text'] = data['tweet_text'].apply(tokenize_text)\n",
    "data.head()"
   ]
  },
  {
   "cell_type": "code",
   "execution_count": 40,
   "id": "4525f1c6",
   "metadata": {},
   "outputs": [
    {
     "data": {
      "text/html": [
       "<div>\n",
       "<style scoped>\n",
       "    .dataframe tbody tr th:only-of-type {\n",
       "        vertical-align: middle;\n",
       "    }\n",
       "\n",
       "    .dataframe tbody tr th {\n",
       "        vertical-align: top;\n",
       "    }\n",
       "\n",
       "    .dataframe thead th {\n",
       "        text-align: right;\n",
       "    }\n",
       "</style>\n",
       "<table border=\"1\" class=\"dataframe\">\n",
       "  <thead>\n",
       "    <tr style=\"text-align: right;\">\n",
       "      <th></th>\n",
       "      <th>tweet_text</th>\n",
       "      <th>recipient</th>\n",
       "      <th>emotion</th>\n",
       "      <th>brand</th>\n",
       "    </tr>\n",
       "  </thead>\n",
       "  <tbody>\n",
       "    <tr>\n",
       "      <th>0</th>\n",
       "      <td>user 3g iphone 3 hrs tweeting riseaustin dead ...</td>\n",
       "      <td>iPhone</td>\n",
       "      <td>Negative emotion</td>\n",
       "      <td>Apple</td>\n",
       "    </tr>\n",
       "    <tr>\n",
       "      <th>1</th>\n",
       "      <td>user know user awesome ipadiphone app likely a...</td>\n",
       "      <td>iPad or iPhone App</td>\n",
       "      <td>Positive emotion</td>\n",
       "      <td>Apple</td>\n",
       "    </tr>\n",
       "    <tr>\n",
       "      <th>2</th>\n",
       "      <td>user wait ipad 2 also sale sxsw</td>\n",
       "      <td>iPad</td>\n",
       "      <td>Positive emotion</td>\n",
       "      <td>Apple</td>\n",
       "    </tr>\n",
       "    <tr>\n",
       "      <th>3</th>\n",
       "      <td>user hope years festival crashy years iphone a...</td>\n",
       "      <td>iPad or iPhone App</td>\n",
       "      <td>Negative emotion</td>\n",
       "      <td>Apple</td>\n",
       "    </tr>\n",
       "    <tr>\n",
       "      <th>4</th>\n",
       "      <td>user great stuff fri sxsw marissa mayer google...</td>\n",
       "      <td>Google</td>\n",
       "      <td>Positive emotion</td>\n",
       "      <td>Google</td>\n",
       "    </tr>\n",
       "  </tbody>\n",
       "</table>\n",
       "</div>"
      ],
      "text/plain": [
       "                                          tweet_text           recipient  \\\n",
       "0  user 3g iphone 3 hrs tweeting riseaustin dead ...              iPhone   \n",
       "1  user know user awesome ipadiphone app likely a...  iPad or iPhone App   \n",
       "2                    user wait ipad 2 also sale sxsw                iPad   \n",
       "3  user hope years festival crashy years iphone a...  iPad or iPhone App   \n",
       "4  user great stuff fri sxsw marissa mayer google...              Google   \n",
       "\n",
       "            emotion   brand  \n",
       "0  Negative emotion   Apple  \n",
       "1  Positive emotion   Apple  \n",
       "2  Positive emotion   Apple  \n",
       "3  Negative emotion   Apple  \n",
       "4  Positive emotion  Google  "
      ]
     },
     "execution_count": 40,
     "metadata": {},
     "output_type": "execute_result"
    }
   ],
   "source": [
    "# removing stop words\n",
    "stop_words = set(stopwords.words('english'))\n",
    "\n",
    "def remove_stopwords(tweet):\n",
    "    # Use list comprehension for efficient list creation\n",
    "    new_tweet = [word for word in tweet if word not in stop_words]\n",
    "    return \" \".join(new_tweet)\n",
    "\n",
    "# Apply the function to the 'review' column\n",
    "data['tweet_text'] = data['tweet_text'].apply(remove_stopwords)\n",
    "data.head()"
   ]
  },
  {
   "cell_type": "code",
   "execution_count": 41,
   "id": "3db10a7d",
   "metadata": {},
   "outputs": [
    {
     "data": {
      "text/plain": [
       "No emotion toward brand or product    5375\n",
       "Positive emotion                      2970\n",
       "Negative emotion                       569\n",
       "I can't tell                           156\n",
       "Name: emotion, dtype: int64"
      ]
     },
     "execution_count": 41,
     "metadata": {},
     "output_type": "execute_result"
    }
   ],
   "source": [
    "data.emotion.value_counts()"
   ]
  },
  {
   "attachments": {},
   "cell_type": "markdown",
   "id": "2eb6832e",
   "metadata": {},
   "source": [
    "#### Words Distribution in Tweet Text"
   ]
  },
  {
   "cell_type": "code",
   "execution_count": 42,
   "id": "c71926a7",
   "metadata": {},
   "outputs": [
    {
     "data": {
      "image/png": "[encoded data removed]",
      "text/plain": [
       "<Figure size 864x576 with 4 Axes>"
      ]
     },
     "metadata": {
      "needs_background": "light"
     },
     "output_type": "display_data"
    }
   ],
   "source": [
    "def generate_review_hist_plot(data, label, color, ax):\n",
    "    tweet_len = data[data['emotion']==label].tweet_text.str.split().map(lambda x: len(x))\n",
    "    ax.set_xlim(0, 25)\n",
    "    ax.set_ylim(0, 800)\n",
    "    ax.hist(tweet_len, color=color)\n",
    "    ax.set_title(f'{label.title()} tweet_text')\n",
    "\n",
    "fig, ax = plt.subplots(nrows=2, ncols=2, figsize=(12,8))\n",
    "generate_review_hist_plot(data,'Positive emotion','green',ax[0,0])\n",
    "generate_review_hist_plot(data,'Negative emotion','red',ax[0,1])\n",
    "generate_review_hist_plot(data,'No emotion toward brand or product','blue',ax[1,0])\n",
    "generate_review_hist_plot(data,\"I can't tell\",'purple',ax[1,1])\n",
    "\n",
    "fig.suptitle(\"Words Distribution in Tweet Text\", fontsize=18)\n",
    "\n",
    "plt.show()"
   ]
  },
  {
   "cell_type": "code",
   "execution_count": 43,
   "id": "aa9b1062",
   "metadata": {},
   "outputs": [
    {
     "data": {
      "text/html": [
       "<div>\n",
       "<style scoped>\n",
       "    .dataframe tbody tr th:only-of-type {\n",
       "        vertical-align: middle;\n",
       "    }\n",
       "\n",
       "    .dataframe tbody tr th {\n",
       "        vertical-align: top;\n",
       "    }\n",
       "\n",
       "    .dataframe thead th {\n",
       "        text-align: right;\n",
       "    }\n",
       "</style>\n",
       "<table border=\"1\" class=\"dataframe\">\n",
       "  <thead>\n",
       "    <tr style=\"text-align: right;\">\n",
       "      <th></th>\n",
       "      <th>tweet_text</th>\n",
       "      <th>recipient</th>\n",
       "      <th>emotion</th>\n",
       "      <th>brand</th>\n",
       "    </tr>\n",
       "  </thead>\n",
       "  <tbody>\n",
       "    <tr>\n",
       "      <th>0</th>\n",
       "      <td>[user, 3g, iphone, 3, hrs, tweeting, riseausti...</td>\n",
       "      <td>iPhone</td>\n",
       "      <td>Negative emotion</td>\n",
       "      <td>Apple</td>\n",
       "    </tr>\n",
       "    <tr>\n",
       "      <th>1</th>\n",
       "      <td>[user, know, user, awesome, ipadiphone, app, l...</td>\n",
       "      <td>iPad or iPhone App</td>\n",
       "      <td>Positive emotion</td>\n",
       "      <td>Apple</td>\n",
       "    </tr>\n",
       "    <tr>\n",
       "      <th>2</th>\n",
       "      <td>[user, wait, ipad, 2, also, sale, sxsw]</td>\n",
       "      <td>iPad</td>\n",
       "      <td>Positive emotion</td>\n",
       "      <td>Apple</td>\n",
       "    </tr>\n",
       "    <tr>\n",
       "      <th>3</th>\n",
       "      <td>[user, hope, years, festival, crashy, years, i...</td>\n",
       "      <td>iPad or iPhone App</td>\n",
       "      <td>Negative emotion</td>\n",
       "      <td>Apple</td>\n",
       "    </tr>\n",
       "    <tr>\n",
       "      <th>4</th>\n",
       "      <td>[user, great, stuff, fri, sxsw, marissa, mayer...</td>\n",
       "      <td>Google</td>\n",
       "      <td>Positive emotion</td>\n",
       "      <td>Google</td>\n",
       "    </tr>\n",
       "  </tbody>\n",
       "</table>\n",
       "</div>"
      ],
      "text/plain": [
       "                                          tweet_text           recipient  \\\n",
       "0  [user, 3g, iphone, 3, hrs, tweeting, riseausti...              iPhone   \n",
       "1  [user, know, user, awesome, ipadiphone, app, l...  iPad or iPhone App   \n",
       "2            [user, wait, ipad, 2, also, sale, sxsw]                iPad   \n",
       "3  [user, hope, years, festival, crashy, years, i...  iPad or iPhone App   \n",
       "4  [user, great, stuff, fri, sxsw, marissa, mayer...              Google   \n",
       "\n",
       "            emotion   brand  \n",
       "0  Negative emotion   Apple  \n",
       "1  Positive emotion   Apple  \n",
       "2  Positive emotion   Apple  \n",
       "3  Negative emotion   Apple  \n",
       "4  Positive emotion  Google  "
      ]
     },
     "execution_count": 43,
     "metadata": {},
     "output_type": "execute_result"
    }
   ],
   "source": [
    "# re-tokenizing the data\n",
    "\n",
    "data['tweet_text'] = data['tweet_text'].apply(tokenize_text)\n",
    "data.head()"
   ]
  },
  {
   "cell_type": "code",
   "execution_count": 44,
   "id": "e5e7788c",
   "metadata": {},
   "outputs": [
    {
     "data": {
      "text/plain": [
       "['user',\n",
       " '3g',\n",
       " 'iphone',\n",
       " '3',\n",
       " 'hrs',\n",
       " 'tweeting',\n",
       " 'riseaustin',\n",
       " 'dead',\n",
       " 'need',\n",
       " 'upgrade',\n",
       " 'plugin',\n",
       " 'stations',\n",
       " 'sxsw']"
      ]
     },
     "execution_count": 44,
     "metadata": {},
     "output_type": "execute_result"
    }
   ],
   "source": [
    "data.tweet_text[0]"
   ]
  },
  {
   "attachments": {},
   "cell_type": "markdown",
   "id": "9f059f90",
   "metadata": {},
   "source": [
    "# justifications of retokenizing\n",
    "\n",
    "We retokinized since after removing the stopwords the tweets were  nolonger split as strings."
   ]
  },
  {
   "attachments": {},
   "cell_type": "markdown",
   "id": "00fc2b09",
   "metadata": {},
   "source": [
    "### frequency distribution after removing stopwords"
   ]
  },
  {
   "cell_type": "code",
   "execution_count": 45,
   "id": "c644e617",
   "metadata": {},
   "outputs": [
    {
     "data": {
      "image/png": "[encoded data removed]",
      "text/plain": [
       "<Figure size 864x432 with 1 Axes>"
      ]
     },
     "metadata": {
      "needs_background": "light"
     },
     "output_type": "display_data"
    }
   ],
   "source": [
    "tweet_texts = data.tweet_text\n",
    "# Flatten the list of tokens into a single list\n",
    "all_tokens = [tweet for sublist in tweet_texts for tweet in sublist]\n",
    "\n",
    "# Create the frequency distribution\n",
    "freq_dist = FreqDist(all_tokens)\n",
    "\n",
    "# Get the most common words\n",
    "most_common = freq_dist.most_common(20)  # Example: Top 20 most common words\n",
    "\n",
    "# Extract the words and frequencies\n",
    "words, frequencies = zip(*most_common)\n",
    "\n",
    "# Create a bar plot\n",
    "plt.figure(figsize=(12, 6))\n",
    "plt.bar(words, frequencies)\n",
    "plt.xlabel('Words')\n",
    "plt.ylabel('Frequency')\n",
    "plt.title('Frequency Distribution of Words')\n",
    "plt.xticks(rotation=45)\n",
    "plt.show()"
   ]
  },
  {
   "attachments": {},
   "cell_type": "markdown",
   "id": "20162c9b",
   "metadata": {},
   "source": [
    "#### ***justification***\n",
    "Just by looking at this, we can see there is a high occurence of\n",
    "\n",
    "* venue specific words such as ```sxsw```\n",
    "\n",
    "* twitter specific words such as ```rt```\n",
    "\n",
    "* brand or product specific words such as ```iphone```\n",
    "\n",
    "These words probably occur across our various sentiments and may not necessarily add any meaning, unless a majority of their occurence is associated with a particular emotion\n"
   ]
  },
  {
   "cell_type": "code",
   "execution_count": 46,
   "id": "51af4f78",
   "metadata": {},
   "outputs": [],
   "source": [
    "# lemmatization\n",
    "\n",
    "# Create Lemmatizer and Stemmer.\n",
    "word_lem = WordNetLemmatizer()\n",
    "\n",
    "# function\n",
    "def lem_words(tweet):\n",
    "    return [word_lem.lemmatize(word) for word in tweet]"
   ]
  },
  {
   "cell_type": "code",
   "execution_count": 47,
   "id": "7b9bb11e",
   "metadata": {},
   "outputs": [
    {
     "data": {
      "text/plain": [
       "0    [user, 3g, iphone, 3, hr, tweeting, riseaustin...\n",
       "1    [user, know, user, awesome, ipadiphone, app, l...\n",
       "2              [user, wait, ipad, 2, also, sale, sxsw]\n",
       "3    [user, hope, year, festival, crashy, year, iph...\n",
       "4    [user, great, stuff, fri, sxsw, marissa, mayer...\n",
       "Name: tweet_text, dtype: object"
      ]
     },
     "execution_count": 47,
     "metadata": {},
     "output_type": "execute_result"
    }
   ],
   "source": [
    "data['tweet_text'] = data['tweet_text'].apply(lem_words)\n",
    "data['tweet_text'].head()"
   ]
  },
  {
   "cell_type": "code",
   "execution_count": 48,
   "id": "e77b42e9",
   "metadata": {},
   "outputs": [
    {
     "data": {
      "text/html": [
       "<div>\n",
       "<style scoped>\n",
       "    .dataframe tbody tr th:only-of-type {\n",
       "        vertical-align: middle;\n",
       "    }\n",
       "\n",
       "    .dataframe tbody tr th {\n",
       "        vertical-align: top;\n",
       "    }\n",
       "\n",
       "    .dataframe thead th {\n",
       "        text-align: right;\n",
       "    }\n",
       "</style>\n",
       "<table border=\"1\" class=\"dataframe\">\n",
       "  <thead>\n",
       "    <tr style=\"text-align: right;\">\n",
       "      <th></th>\n",
       "      <th>tweet_text</th>\n",
       "      <th>recipient</th>\n",
       "      <th>emotion</th>\n",
       "      <th>brand</th>\n",
       "    </tr>\n",
       "  </thead>\n",
       "  <tbody>\n",
       "    <tr>\n",
       "      <th>0</th>\n",
       "      <td>[user, 3g, iphone, 3, hr, tweeting, riseaustin...</td>\n",
       "      <td>iPhone</td>\n",
       "      <td>Negative emotion</td>\n",
       "      <td>Apple</td>\n",
       "    </tr>\n",
       "    <tr>\n",
       "      <th>1</th>\n",
       "      <td>[user, know, user, awesome, ipadiphone, app, l...</td>\n",
       "      <td>iPad or iPhone App</td>\n",
       "      <td>Positive emotion</td>\n",
       "      <td>Apple</td>\n",
       "    </tr>\n",
       "    <tr>\n",
       "      <th>2</th>\n",
       "      <td>[user, wait, ipad, 2, also, sale, sxsw]</td>\n",
       "      <td>iPad</td>\n",
       "      <td>Positive emotion</td>\n",
       "      <td>Apple</td>\n",
       "    </tr>\n",
       "    <tr>\n",
       "      <th>3</th>\n",
       "      <td>[user, hope, year, festival, crashy, year, iph...</td>\n",
       "      <td>iPad or iPhone App</td>\n",
       "      <td>Negative emotion</td>\n",
       "      <td>Apple</td>\n",
       "    </tr>\n",
       "    <tr>\n",
       "      <th>4</th>\n",
       "      <td>[user, great, stuff, fri, sxsw, marissa, mayer...</td>\n",
       "      <td>Google</td>\n",
       "      <td>Positive emotion</td>\n",
       "      <td>Google</td>\n",
       "    </tr>\n",
       "  </tbody>\n",
       "</table>\n",
       "</div>"
      ],
      "text/plain": [
       "                                          tweet_text           recipient  \\\n",
       "0  [user, 3g, iphone, 3, hr, tweeting, riseaustin...              iPhone   \n",
       "1  [user, know, user, awesome, ipadiphone, app, l...  iPad or iPhone App   \n",
       "2            [user, wait, ipad, 2, also, sale, sxsw]                iPad   \n",
       "3  [user, hope, year, festival, crashy, year, iph...  iPad or iPhone App   \n",
       "4  [user, great, stuff, fri, sxsw, marissa, mayer...              Google   \n",
       "\n",
       "            emotion   brand  \n",
       "0  Negative emotion   Apple  \n",
       "1  Positive emotion   Apple  \n",
       "2  Positive emotion   Apple  \n",
       "3  Negative emotion   Apple  \n",
       "4  Positive emotion  Google  "
      ]
     },
     "execution_count": 48,
     "metadata": {},
     "output_type": "execute_result"
    }
   ],
   "source": [
    "data.head()"
   ]
  },
  {
   "attachments": {},
   "cell_type": "markdown",
   "id": "879a94e2",
   "metadata": {},
   "source": [
    "#### dealing with emojis"
   ]
  },
  {
   "attachments": {},
   "cell_type": "markdown",
   "id": "d45bbe82",
   "metadata": {},
   "source": [
    "We create a function that replaces emojis in tweet text with their corresponding meanings."
   ]
  },
  {
   "cell_type": "code",
   "execution_count": 49,
   "id": "021e1056",
   "metadata": {},
   "outputs": [],
   "source": [
    "# Defining dictionary containing all emojis with their meanings.\n",
    "emojis = {':)': 'smile', ':-)': 'smile', ';d': 'wink', ':-E': 'vampire', ':(': 'sad', \n",
    "          ':-(': 'sad', ':-<': 'sad', ':P': 'raspberry', ':O': 'surprised',\n",
    "          ':-@': 'shocked', ':@': 'shocked',':-$': 'confused', ':\\\\': 'annoyed', \n",
    "          ':#': 'mute', ':X': 'mute', ':^)': 'smile', ':-&': 'confused', '$_$': 'greedy',\n",
    "          '@@': 'eyeroll', ':-!': 'confused', ':-D': 'smile', ':-0': 'yell', 'O.o': 'confused',\n",
    "          '<(-_-)>': 'robot', 'd[-_-]b': 'dj', \":'-)\": 'sadsmile', ';)': 'wink', \n",
    "          ';-)': 'wink', 'O:-)': 'angel','O*-)': 'angel','(:-D': 'gossip', '=^.^=': 'cat'}"
   ]
  },
  {
   "cell_type": "code",
   "execution_count": 50,
   "id": "2045143d",
   "metadata": {},
   "outputs": [],
   "source": [
    "def process(tweets):\n",
    "    \n",
    "    processed_tweet = []\n",
    "    \n",
    "    \n",
    "    # Defining regex patterns.\n",
    "    \n",
    "    sequencePattern   = r\"(.)\\1\\1+\"\n",
    "    seqReplacePattern = r\"\\1\\1\"\n",
    "    \n",
    "    for tweet in tweets:\n",
    "        \n",
    "        # Replace all emojis.\n",
    "        for emoji in emojis.keys():\n",
    "            tweet = tweet.replace(emoji, \"EMOJI\" + emojis[emoji])              \n",
    "            # Replace 3 or more consecutive letters by 2 letter.\n",
    "            tweet = re.sub(sequencePattern, seqReplacePattern, tweet)\n",
    "        \n",
    "        processed_tweet.append(tweet)\n",
    "        \n",
    "    return processed_tweet"
   ]
  },
  {
   "cell_type": "code",
   "execution_count": 51,
   "id": "e9cf333f",
   "metadata": {},
   "outputs": [
    {
     "data": {
      "text/html": [
       "<div>\n",
       "<style scoped>\n",
       "    .dataframe tbody tr th:only-of-type {\n",
       "        vertical-align: middle;\n",
       "    }\n",
       "\n",
       "    .dataframe tbody tr th {\n",
       "        vertical-align: top;\n",
       "    }\n",
       "\n",
       "    .dataframe thead th {\n",
       "        text-align: right;\n",
       "    }\n",
       "</style>\n",
       "<table border=\"1\" class=\"dataframe\">\n",
       "  <thead>\n",
       "    <tr style=\"text-align: right;\">\n",
       "      <th></th>\n",
       "      <th>tweet_text</th>\n",
       "      <th>recipient</th>\n",
       "      <th>emotion</th>\n",
       "      <th>brand</th>\n",
       "    </tr>\n",
       "  </thead>\n",
       "  <tbody>\n",
       "    <tr>\n",
       "      <th>0</th>\n",
       "      <td>[user, 3g, iphone, 3, hr, tweeting, riseaustin...</td>\n",
       "      <td>iPhone</td>\n",
       "      <td>Negative emotion</td>\n",
       "      <td>Apple</td>\n",
       "    </tr>\n",
       "    <tr>\n",
       "      <th>1</th>\n",
       "      <td>[user, know, user, awesome, ipadiphone, app, l...</td>\n",
       "      <td>iPad or iPhone App</td>\n",
       "      <td>Positive emotion</td>\n",
       "      <td>Apple</td>\n",
       "    </tr>\n",
       "    <tr>\n",
       "      <th>2</th>\n",
       "      <td>[user, wait, ipad, 2, also, sale, sxsw]</td>\n",
       "      <td>iPad</td>\n",
       "      <td>Positive emotion</td>\n",
       "      <td>Apple</td>\n",
       "    </tr>\n",
       "    <tr>\n",
       "      <th>3</th>\n",
       "      <td>[user, hope, year, festival, crashy, year, iph...</td>\n",
       "      <td>iPad or iPhone App</td>\n",
       "      <td>Negative emotion</td>\n",
       "      <td>Apple</td>\n",
       "    </tr>\n",
       "    <tr>\n",
       "      <th>4</th>\n",
       "      <td>[user, great, stuff, fri, sxsw, marissa, mayer...</td>\n",
       "      <td>Google</td>\n",
       "      <td>Positive emotion</td>\n",
       "      <td>Google</td>\n",
       "    </tr>\n",
       "  </tbody>\n",
       "</table>\n",
       "</div>"
      ],
      "text/plain": [
       "                                          tweet_text           recipient  \\\n",
       "0  [user, 3g, iphone, 3, hr, tweeting, riseaustin...              iPhone   \n",
       "1  [user, know, user, awesome, ipadiphone, app, l...  iPad or iPhone App   \n",
       "2            [user, wait, ipad, 2, also, sale, sxsw]                iPad   \n",
       "3  [user, hope, year, festival, crashy, year, iph...  iPad or iPhone App   \n",
       "4  [user, great, stuff, fri, sxsw, marissa, mayer...              Google   \n",
       "\n",
       "            emotion   brand  \n",
       "0  Negative emotion   Apple  \n",
       "1  Positive emotion   Apple  \n",
       "2  Positive emotion   Apple  \n",
       "3  Negative emotion   Apple  \n",
       "4  Positive emotion  Google  "
      ]
     },
     "execution_count": 51,
     "metadata": {},
     "output_type": "execute_result"
    }
   ],
   "source": [
    "data['tweet_text'] = data['tweet_text'].apply(process)\n",
    "data.head()"
   ]
  },
  {
   "cell_type": "code",
   "execution_count": 52,
   "id": "2aedbe5f",
   "metadata": {},
   "outputs": [
    {
     "data": {
      "text/plain": [
       "['user',\n",
       " '3g',\n",
       " 'iphone',\n",
       " '3',\n",
       " 'hr',\n",
       " 'tweeting',\n",
       " 'riseaustin',\n",
       " 'dead',\n",
       " 'need',\n",
       " 'upgrade',\n",
       " 'plugin',\n",
       " 'station',\n",
       " 'sxsw']"
      ]
     },
     "execution_count": 52,
     "metadata": {},
     "output_type": "execute_result"
    }
   ],
   "source": [
    "data.tweet_text[0]"
   ]
  },
  {
   "attachments": {},
   "cell_type": "markdown",
   "id": "8e6f30aa",
   "metadata": {},
   "source": [
    "# vectorization"
   ]
  },
  {
   "cell_type": "code",
   "execution_count": 53,
   "id": "0c000a39",
   "metadata": {},
   "outputs": [],
   "source": [
    "# create instance 1 vectorizer\n",
    "bow = CountVectorizer()\n",
    "data['lemmatized_review'] = data['tweet_text'].str.join(\" \")\n",
    "x = bow.fit_transform(data['lemmatized_review'])"
   ]
  },
  {
   "cell_type": "code",
   "execution_count": 108,
   "id": "857750ca",
   "metadata": {},
   "outputs": [
    {
     "ename": "AttributeError",
     "evalue": "'CountVectorizer' object has no attribute 'get_feature_names_out'",
     "output_type": "error",
     "traceback": [
      "\u001b[1;31m---------------------------------------------------------------------------\u001b[0m",
      "\u001b[1;31mAttributeError\u001b[0m                            Traceback (most recent call last)",
      "\u001b[1;32m<ipython-input-108-7c59ca5290bd>\u001b[0m in \u001b[0;36m<module>\u001b[1;34m\u001b[0m\n\u001b[1;32m----> 1\u001b[1;33m \u001b[0mfeature_name\u001b[0m \u001b[1;33m=\u001b[0m \u001b[0mbow\u001b[0m\u001b[1;33m.\u001b[0m\u001b[0mget_feature_names_out\u001b[0m\u001b[1;33m(\u001b[0m\u001b[1;33m)\u001b[0m\u001b[1;33m\u001b[0m\u001b[1;33m\u001b[0m\u001b[0m\n\u001b[0m\u001b[0;32m      2\u001b[0m \u001b[0mfeature_name\u001b[0m\u001b[1;33m\u001b[0m\u001b[1;33m\u001b[0m\u001b[0m\n",
      "\u001b[1;31mAttributeError\u001b[0m: 'CountVectorizer' object has no attribute 'get_feature_names_out'"
     ]
    }
   ],
   "source": [
    "feature_name = bow.get_feature_names_out()\n",
    "feature_name"
   ]
  },
  {
   "cell_type": "code",
   "execution_count": null,
   "id": "8d0cfeb7",
   "metadata": {},
   "outputs": [],
   "source": [
    "# write observation of code above\n"
   ]
  },
  {
   "attachments": {},
   "cell_type": "markdown",
   "id": "1668a8d8",
   "metadata": {},
   "source": [
    "### label encoding the target\n",
    "\n",
    "Here we label encode the target feature to transform the values to numerical values."
   ]
  },
  {
   "cell_type": "code",
   "execution_count": 55,
   "id": "0cb7d688",
   "metadata": {},
   "outputs": [],
   "source": [
    "# import library\n",
    "from sklearn.preprocessing import LabelEncoder"
   ]
  },
  {
   "cell_type": "code",
   "execution_count": 56,
   "id": "9debc85a",
   "metadata": {},
   "outputs": [
    {
     "data": {
      "text/plain": [
       "array([\"I can't tell\", 'Negative emotion',\n",
       "       'No emotion toward brand or product', 'Positive emotion'],\n",
       "      dtype=object)"
      ]
     },
     "execution_count": 56,
     "metadata": {},
     "output_type": "execute_result"
    }
   ],
   "source": [
    "le = LabelEncoder() # initializing the lib\n",
    "data['emotion_code'] = le.fit_transform(data.emotion)\n",
    "le.classes_ # viewing the classes"
   ]
  },
  {
   "attachments": {},
   "cell_type": "markdown",
   "id": "efe1169b",
   "metadata": {},
   "source": [
    "#### Previewing to ensure encoding is present"
   ]
  },
  {
   "cell_type": "code",
   "execution_count": 57,
   "id": "4791038d",
   "metadata": {},
   "outputs": [
    {
     "data": {
      "text/html": [
       "<div>\n",
       "<style scoped>\n",
       "    .dataframe tbody tr th:only-of-type {\n",
       "        vertical-align: middle;\n",
       "    }\n",
       "\n",
       "    .dataframe tbody tr th {\n",
       "        vertical-align: top;\n",
       "    }\n",
       "\n",
       "    .dataframe thead th {\n",
       "        text-align: right;\n",
       "    }\n",
       "</style>\n",
       "<table border=\"1\" class=\"dataframe\">\n",
       "  <thead>\n",
       "    <tr style=\"text-align: right;\">\n",
       "      <th></th>\n",
       "      <th>tweet_text</th>\n",
       "      <th>recipient</th>\n",
       "      <th>emotion</th>\n",
       "      <th>brand</th>\n",
       "      <th>lemmatized_review</th>\n",
       "      <th>emotion_code</th>\n",
       "    </tr>\n",
       "  </thead>\n",
       "  <tbody>\n",
       "    <tr>\n",
       "      <th>0</th>\n",
       "      <td>[user, 3g, iphone, 3, hr, tweeting, riseaustin...</td>\n",
       "      <td>iPhone</td>\n",
       "      <td>Negative emotion</td>\n",
       "      <td>Apple</td>\n",
       "      <td>user 3g iphone 3 hr tweeting riseaustin dead n...</td>\n",
       "      <td>1</td>\n",
       "    </tr>\n",
       "    <tr>\n",
       "      <th>1</th>\n",
       "      <td>[user, know, user, awesome, ipadiphone, app, l...</td>\n",
       "      <td>iPad or iPhone App</td>\n",
       "      <td>Positive emotion</td>\n",
       "      <td>Apple</td>\n",
       "      <td>user know user awesome ipadiphone app likely a...</td>\n",
       "      <td>3</td>\n",
       "    </tr>\n",
       "    <tr>\n",
       "      <th>2</th>\n",
       "      <td>[user, wait, ipad, 2, also, sale, sxsw]</td>\n",
       "      <td>iPad</td>\n",
       "      <td>Positive emotion</td>\n",
       "      <td>Apple</td>\n",
       "      <td>user wait ipad 2 also sale sxsw</td>\n",
       "      <td>3</td>\n",
       "    </tr>\n",
       "    <tr>\n",
       "      <th>3</th>\n",
       "      <td>[user, hope, year, festival, crashy, year, iph...</td>\n",
       "      <td>iPad or iPhone App</td>\n",
       "      <td>Negative emotion</td>\n",
       "      <td>Apple</td>\n",
       "      <td>user hope year festival crashy year iphone app...</td>\n",
       "      <td>1</td>\n",
       "    </tr>\n",
       "    <tr>\n",
       "      <th>4</th>\n",
       "      <td>[user, great, stuff, fri, sxsw, marissa, mayer...</td>\n",
       "      <td>Google</td>\n",
       "      <td>Positive emotion</td>\n",
       "      <td>Google</td>\n",
       "      <td>user great stuff fri sxsw marissa mayer google...</td>\n",
       "      <td>3</td>\n",
       "    </tr>\n",
       "  </tbody>\n",
       "</table>\n",
       "</div>"
      ],
      "text/plain": [
       "                                          tweet_text           recipient  \\\n",
       "0  [user, 3g, iphone, 3, hr, tweeting, riseaustin...              iPhone   \n",
       "1  [user, know, user, awesome, ipadiphone, app, l...  iPad or iPhone App   \n",
       "2            [user, wait, ipad, 2, also, sale, sxsw]                iPad   \n",
       "3  [user, hope, year, festival, crashy, year, iph...  iPad or iPhone App   \n",
       "4  [user, great, stuff, fri, sxsw, marissa, mayer...              Google   \n",
       "\n",
       "            emotion   brand  \\\n",
       "0  Negative emotion   Apple   \n",
       "1  Positive emotion   Apple   \n",
       "2  Positive emotion   Apple   \n",
       "3  Negative emotion   Apple   \n",
       "4  Positive emotion  Google   \n",
       "\n",
       "                                   lemmatized_review  emotion_code  \n",
       "0  user 3g iphone 3 hr tweeting riseaustin dead n...             1  \n",
       "1  user know user awesome ipadiphone app likely a...             3  \n",
       "2                    user wait ipad 2 also sale sxsw             3  \n",
       "3  user hope year festival crashy year iphone app...             1  \n",
       "4  user great stuff fri sxsw marissa mayer google...             3  "
      ]
     },
     "execution_count": 57,
     "metadata": {},
     "output_type": "execute_result"
    }
   ],
   "source": [
    "# preview\n",
    "data.head()"
   ]
  },
  {
   "cell_type": "code",
   "execution_count": 58,
   "id": "3e69a613",
   "metadata": {},
   "outputs": [
    {
     "data": {
      "text/html": [
       "<div>\n",
       "<style scoped>\n",
       "    .dataframe tbody tr th:only-of-type {\n",
       "        vertical-align: middle;\n",
       "    }\n",
       "\n",
       "    .dataframe tbody tr th {\n",
       "        vertical-align: top;\n",
       "    }\n",
       "\n",
       "    .dataframe thead th {\n",
       "        text-align: right;\n",
       "    }\n",
       "</style>\n",
       "<table border=\"1\" class=\"dataframe\">\n",
       "  <thead>\n",
       "    <tr style=\"text-align: right;\">\n",
       "      <th></th>\n",
       "      <th>emotion</th>\n",
       "      <th>emotion_code</th>\n",
       "    </tr>\n",
       "  </thead>\n",
       "  <tbody>\n",
       "    <tr>\n",
       "      <th>0</th>\n",
       "      <td>Negative emotion</td>\n",
       "      <td>1</td>\n",
       "    </tr>\n",
       "    <tr>\n",
       "      <th>1</th>\n",
       "      <td>Positive emotion</td>\n",
       "      <td>3</td>\n",
       "    </tr>\n",
       "    <tr>\n",
       "      <th>2</th>\n",
       "      <td>Positive emotion</td>\n",
       "      <td>3</td>\n",
       "    </tr>\n",
       "    <tr>\n",
       "      <th>3</th>\n",
       "      <td>Negative emotion</td>\n",
       "      <td>1</td>\n",
       "    </tr>\n",
       "    <tr>\n",
       "      <th>4</th>\n",
       "      <td>Positive emotion</td>\n",
       "      <td>3</td>\n",
       "    </tr>\n",
       "    <tr>\n",
       "      <th>5</th>\n",
       "      <td>No emotion toward brand or product</td>\n",
       "      <td>2</td>\n",
       "    </tr>\n",
       "    <tr>\n",
       "      <th>7</th>\n",
       "      <td>Positive emotion</td>\n",
       "      <td>3</td>\n",
       "    </tr>\n",
       "    <tr>\n",
       "      <th>8</th>\n",
       "      <td>Positive emotion</td>\n",
       "      <td>3</td>\n",
       "    </tr>\n",
       "    <tr>\n",
       "      <th>9</th>\n",
       "      <td>Positive emotion</td>\n",
       "      <td>3</td>\n",
       "    </tr>\n",
       "    <tr>\n",
       "      <th>10</th>\n",
       "      <td>Positive emotion</td>\n",
       "      <td>3</td>\n",
       "    </tr>\n",
       "  </tbody>\n",
       "</table>\n",
       "</div>"
      ],
      "text/plain": [
       "                               emotion  emotion_code\n",
       "0                     Negative emotion             1\n",
       "1                     Positive emotion             3\n",
       "2                     Positive emotion             3\n",
       "3                     Negative emotion             1\n",
       "4                     Positive emotion             3\n",
       "5   No emotion toward brand or product             2\n",
       "7                     Positive emotion             3\n",
       "8                     Positive emotion             3\n",
       "9                     Positive emotion             3\n",
       "10                    Positive emotion             3"
      ]
     },
     "execution_count": 58,
     "metadata": {},
     "output_type": "execute_result"
    }
   ],
   "source": [
    "# displaying the encoding scheme\n",
    "data[['emotion', 'emotion_code']].head(10)"
   ]
  },
  {
   "attachments": {},
   "cell_type": "markdown",
   "id": "3d00d267",
   "metadata": {},
   "source": [
    "# 6. Modelling\n",
    "* The problem at hand is a classification problem.\n",
    "* We will explore 3 models: a binary logisticregression model, a multi-class XGBoost model and a tuned random forest model.\n",
    "* Model accuracy will be the metrics for evaluation.\n",
    "* Justification: Accuracy to get a verdict if a tweet is positive or negative.\n",
    "\n",
    "* Accuracy of 70% will be the threshold to deam the model as successful."
   ]
  },
  {
   "attachments": {},
   "cell_type": "markdown",
   "id": "17462043",
   "metadata": {},
   "source": [
    "### 6.1 Binary classification\n",
    "* In this section we create a base model to identify if a tweet is 'Positive' or 'Negative'.\n",
    "* LogisticRegression will be used for the classification.\n",
    "* The normal preprocessing of vectorization and train test split will be implemented."
   ]
  },
  {
   "cell_type": "code",
   "execution_count": 59,
   "id": "5bdd94b5",
   "metadata": {},
   "outputs": [],
   "source": [
    "# creating a copy of the original data so as to remove unwanted rows i.e. (not positive or negative)\n",
    "data_copy = data.copy()"
   ]
  },
  {
   "cell_type": "code",
   "execution_count": 60,
   "id": "33f69439",
   "metadata": {},
   "outputs": [],
   "source": [
    "# Define the values to drop\n",
    "values_to_drop = [0, 2]\n",
    "\n",
    "# Drop rows that have the values in column 'B'\n",
    "data_copy = data_copy[~data_copy['emotion_code'].isin(values_to_drop)]"
   ]
  },
  {
   "cell_type": "code",
   "execution_count": 61,
   "id": "28da54de",
   "metadata": {},
   "outputs": [
    {
     "data": {
      "text/plain": [
       "3    2970\n",
       "1     569\n",
       "Name: emotion_code, dtype: int64"
      ]
     },
     "execution_count": 61,
     "metadata": {},
     "output_type": "execute_result"
    }
   ],
   "source": [
    "# value counts\n",
    "data_copy['emotion_code'].value_counts()"
   ]
  },
  {
   "cell_type": "code",
   "execution_count": 62,
   "id": "f627fc52",
   "metadata": {},
   "outputs": [
    {
     "data": {
      "image/png": "[encoded data removed]",
      "text/plain": [
       "<Figure size 720x504 with 1 Axes>"
      ]
     },
     "metadata": {
      "needs_background": "light"
     },
     "output_type": "display_data"
    }
   ],
   "source": [
    "# lets see see binary sentiment distribution emotion-wise\n",
    "emotion_group = data_copy.groupby('emotion')['emotion_code'].value_counts().reset_index(name='count')\n",
    "# Calculate the ascending order of states based on churn count\n",
    "ascending_order = emotion_group.groupby('emotion')['count'].sum().sort_values().index\n",
    "\n",
    "plt.figure(figsize=(10,7))\n",
    "sns.barplot(x='emotion', y='count', hue='emotion', data=emotion_group, order=ascending_order)\n",
    "plt.xlabel('emotion')\n",
    "plt.ylabel('Count')\n",
    "plt.title('Sentiment Count Distribution')\n",
    "plt.show()"
   ]
  },
  {
   "attachments": {},
   "cell_type": "markdown",
   "id": "f3f3ddb0",
   "metadata": {},
   "source": [
    "### intepretation\n",
    "\n",
    "* From the graph above it is clear that most of the sentiments were positive in nature"
   ]
  },
  {
   "attachments": {},
   "cell_type": "markdown",
   "id": "8956c63d",
   "metadata": {},
   "source": [
    "\n",
    "### vectorizing data copy"
   ]
  },
  {
   "cell_type": "code",
   "execution_count": 63,
   "id": "7a45fae1",
   "metadata": {},
   "outputs": [],
   "source": [
    "# create instance of vectorizer\n",
    "bow2 = CountVectorizer()\n",
    "data_copy['lemmatized_review'] = data_copy['tweet_text'].str.join(\" \")\n",
    "x2 = bow2.fit_transform(data_copy['lemmatized_review'])"
   ]
  },
  {
   "cell_type": "code",
   "execution_count": 64,
   "id": "4454d10a",
   "metadata": {},
   "outputs": [
    {
     "data": {
      "text/html": [
       "<div>\n",
       "<style scoped>\n",
       "    .dataframe tbody tr th:only-of-type {\n",
       "        vertical-align: middle;\n",
       "    }\n",
       "\n",
       "    .dataframe tbody tr th {\n",
       "        vertical-align: top;\n",
       "    }\n",
       "\n",
       "    .dataframe thead th {\n",
       "        text-align: right;\n",
       "    }\n",
       "</style>\n",
       "<table border=\"1\" class=\"dataframe\">\n",
       "  <thead>\n",
       "    <tr style=\"text-align: right;\">\n",
       "      <th></th>\n",
       "      <th>tweet_text</th>\n",
       "      <th>recipient</th>\n",
       "      <th>emotion</th>\n",
       "      <th>brand</th>\n",
       "      <th>lemmatized_review</th>\n",
       "      <th>emotion_code</th>\n",
       "    </tr>\n",
       "  </thead>\n",
       "  <tbody>\n",
       "    <tr>\n",
       "      <th>0</th>\n",
       "      <td>[user, 3g, iphone, 3, hr, tweeting, riseaustin...</td>\n",
       "      <td>iPhone</td>\n",
       "      <td>Negative emotion</td>\n",
       "      <td>Apple</td>\n",
       "      <td>user 3g iphone 3 hr tweeting riseaustin dead n...</td>\n",
       "      <td>1</td>\n",
       "    </tr>\n",
       "    <tr>\n",
       "      <th>1</th>\n",
       "      <td>[user, know, user, awesome, ipadiphone, app, l...</td>\n",
       "      <td>iPad or iPhone App</td>\n",
       "      <td>Positive emotion</td>\n",
       "      <td>Apple</td>\n",
       "      <td>user know user awesome ipadiphone app likely a...</td>\n",
       "      <td>3</td>\n",
       "    </tr>\n",
       "    <tr>\n",
       "      <th>2</th>\n",
       "      <td>[user, wait, ipad, 2, also, sale, sxsw]</td>\n",
       "      <td>iPad</td>\n",
       "      <td>Positive emotion</td>\n",
       "      <td>Apple</td>\n",
       "      <td>user wait ipad 2 also sale sxsw</td>\n",
       "      <td>3</td>\n",
       "    </tr>\n",
       "    <tr>\n",
       "      <th>3</th>\n",
       "      <td>[user, hope, year, festival, crashy, year, iph...</td>\n",
       "      <td>iPad or iPhone App</td>\n",
       "      <td>Negative emotion</td>\n",
       "      <td>Apple</td>\n",
       "      <td>user hope year festival crashy year iphone app...</td>\n",
       "      <td>1</td>\n",
       "    </tr>\n",
       "    <tr>\n",
       "      <th>4</th>\n",
       "      <td>[user, great, stuff, fri, sxsw, marissa, mayer...</td>\n",
       "      <td>Google</td>\n",
       "      <td>Positive emotion</td>\n",
       "      <td>Google</td>\n",
       "      <td>user great stuff fri sxsw marissa mayer google...</td>\n",
       "      <td>3</td>\n",
       "    </tr>\n",
       "  </tbody>\n",
       "</table>\n",
       "</div>"
      ],
      "text/plain": [
       "                                          tweet_text           recipient  \\\n",
       "0  [user, 3g, iphone, 3, hr, tweeting, riseaustin...              iPhone   \n",
       "1  [user, know, user, awesome, ipadiphone, app, l...  iPad or iPhone App   \n",
       "2            [user, wait, ipad, 2, also, sale, sxsw]                iPad   \n",
       "3  [user, hope, year, festival, crashy, year, iph...  iPad or iPhone App   \n",
       "4  [user, great, stuff, fri, sxsw, marissa, mayer...              Google   \n",
       "\n",
       "            emotion   brand  \\\n",
       "0  Negative emotion   Apple   \n",
       "1  Positive emotion   Apple   \n",
       "2  Positive emotion   Apple   \n",
       "3  Negative emotion   Apple   \n",
       "4  Positive emotion  Google   \n",
       "\n",
       "                                   lemmatized_review  emotion_code  \n",
       "0  user 3g iphone 3 hr tweeting riseaustin dead n...             1  \n",
       "1  user know user awesome ipadiphone app likely a...             3  \n",
       "2                    user wait ipad 2 also sale sxsw             3  \n",
       "3  user hope year festival crashy year iphone app...             1  \n",
       "4  user great stuff fri sxsw marissa mayer google...             3  "
      ]
     },
     "execution_count": 64,
     "metadata": {},
     "output_type": "execute_result"
    }
   ],
   "source": [
    "# preview\n",
    "data_copy.head()"
   ]
  },
  {
   "attachments": {},
   "cell_type": "markdown",
   "id": "58e81273",
   "metadata": {},
   "source": [
    "### Train-test split"
   ]
  },
  {
   "cell_type": "code",
   "execution_count": 65,
   "id": "7c4380ff",
   "metadata": {},
   "outputs": [],
   "source": [
    "# modelling libraries\n",
    "\n",
    "from sklearn.model_selection import train_test_split\n",
    "from sklearn.linear_model import LogisticRegression\n",
    "from sklearn.metrics import accuracy_score, classification_report, confusion_matrix\n",
    "from sklearn import metrics"
   ]
  },
  {
   "cell_type": "code",
   "execution_count": 66,
   "id": "0f1c76a8",
   "metadata": {},
   "outputs": [],
   "source": [
    "#x = bow.fit_transform(data['lemmatized_review'])\n",
    "y = data_copy['emotion_code']"
   ]
  },
  {
   "cell_type": "code",
   "execution_count": 67,
   "id": "7ec980ba",
   "metadata": {},
   "outputs": [],
   "source": [
    "# train-test split\n",
    "X_train, X_test, y_train, y_test = train_test_split(x2, y, test_size=0.2, random_state=42)"
   ]
  },
  {
   "cell_type": "code",
   "execution_count": 68,
   "id": "d8848b03",
   "metadata": {},
   "outputs": [
    {
     "data": {
      "text/plain": [
       "((2831, 5871), (2831,))"
      ]
     },
     "execution_count": 68,
     "metadata": {},
     "output_type": "execute_result"
    }
   ],
   "source": [
    "# confirming shape\n",
    "\n",
    "X_train.shape, y_train.shape"
   ]
  },
  {
   "attachments": {},
   "cell_type": "markdown",
   "id": "bef3a6cd",
   "metadata": {},
   "source": [
    "\n",
    "### Fitting logistic regression model on split data"
   ]
  },
  {
   "cell_type": "code",
   "execution_count": 69,
   "id": "78e93273",
   "metadata": {},
   "outputs": [],
   "source": [
    "# instantiating model 1\n",
    "log_reg = LogisticRegression(random_state=42)"
   ]
  },
  {
   "cell_type": "code",
   "execution_count": 70,
   "id": "95cb9515",
   "metadata": {},
   "outputs": [
    {
     "data": {
      "text/plain": [
       "LogisticRegression(random_state=42)"
      ]
     },
     "execution_count": 70,
     "metadata": {},
     "output_type": "execute_result"
    }
   ],
   "source": [
    "# fitting\n",
    "log_reg.fit(X_train, y_train)"
   ]
  },
  {
   "cell_type": "code",
   "execution_count": 71,
   "id": "0fa87f7e",
   "metadata": {},
   "outputs": [],
   "source": [
    "# predicting\n",
    "y_pred = log_reg.predict(X_test)\n",
    "y_train_pred = log_reg.predict(X_train)"
   ]
  },
  {
   "attachments": {},
   "cell_type": "markdown",
   "id": "86647563",
   "metadata": {},
   "source": [
    "### evaluation"
   ]
  },
  {
   "cell_type": "code",
   "execution_count": 72,
   "id": "f2d8a34a",
   "metadata": {},
   "outputs": [
    {
     "name": "stdout",
     "output_type": "stream",
     "text": [
      "train 0.9699752737548569\n",
      "test 0.903954802259887\n"
     ]
    }
   ],
   "source": [
    "print('train',accuracy_score(y_train, y_train_pred))\n",
    "print('test',accuracy_score(y_test, y_pred))"
   ]
  },
  {
   "cell_type": "code",
   "execution_count": 73,
   "id": "617364d1",
   "metadata": {},
   "outputs": [
    {
     "name": "stdout",
     "output_type": "stream",
     "text": [
      "              precision    recall  f1-score   support\n",
      "\n",
      "           1       0.84      0.44      0.58       106\n",
      "           3       0.91      0.99      0.95       602\n",
      "\n",
      "    accuracy                           0.90       708\n",
      "   macro avg       0.87      0.71      0.76       708\n",
      "weighted avg       0.90      0.90      0.89       708\n",
      "\n"
     ]
    }
   ],
   "source": [
    "print(classification_report(y_test, y_pred))"
   ]
  },
  {
   "cell_type": "code",
   "execution_count": 74,
   "id": "202420cc",
   "metadata": {},
   "outputs": [],
   "source": [
    "confusion_matrix = confusion_matrix(y_test, y_pred)"
   ]
  },
  {
   "cell_type": "code",
   "execution_count": 75,
   "id": "a10b4460",
   "metadata": {},
   "outputs": [
    {
     "data": {
      "image/png": "[encoded data removed]",
      "text/plain": [
       "<Figure size 432x288 with 2 Axes>"
      ]
     },
     "metadata": {
      "needs_background": "light"
     },
     "output_type": "display_data"
    }
   ],
   "source": [
    "cm_display = metrics.ConfusionMatrixDisplay(confusion_matrix = confusion_matrix, display_labels = [False, True])\n",
    "cm_display.plot()\n",
    "plt.show()"
   ]
  },
  {
   "attachments": {},
   "cell_type": "markdown",
   "id": "c712f235",
   "metadata": {},
   "source": [
    "## Machine Learning Communication\n",
    "\n",
    "### Rationale why modeling was implemented.\n",
    "* While simpler forms of data analysis, such as descriptive statistics or basic data visualization, can provide initial insights, they may not be sufficient for complex problems or large datasets. Machine learning leverages advanced algorithms to uncover hidden patterns.\n",
    "\n",
    "### Results.\n",
    "> * Training accuracy: 96%\n",
    "> * Testing accuracy: 90%\n",
    "\n",
    "* The accuracy means that the model can predict with an accuracy of 90% whether a tweet is positive or negative.\n",
    "* The current model is fit for prediction since it is generalizing well to new data even with high accuracy.\n",
    "\n",
    "### Limitations of binary model.\n",
    "\n",
    "* Not fit for multiclass datasets."
   ]
  },
  {
   "attachments": {},
   "cell_type": "markdown",
   "id": "df4259da",
   "metadata": {},
   "source": [
    "### testing logistic regression model here\n",
    "* we take a sample sentence, preprocess it then pass it to the model to see the output."
   ]
  },
  {
   "cell_type": "code",
   "execution_count": 76,
   "id": "624828db",
   "metadata": {},
   "outputs": [],
   "source": [
    "# tweet\n",
    "review = 'Awwww!! the google was sooo sweeet!! I loved it'\n",
    "#review = 'i hate apple'"
   ]
  },
  {
   "cell_type": "code",
   "execution_count": 77,
   "id": "c5ad0e60",
   "metadata": {},
   "outputs": [
    {
     "data": {
      "text/plain": [
       "'awwww!! the google was sooo sweeet!! i loved it'"
      ]
     },
     "execution_count": 77,
     "metadata": {},
     "output_type": "execute_result"
    }
   ],
   "source": [
    "# lowecase\n",
    "review = review.lower()\n",
    "review"
   ]
  },
  {
   "cell_type": "code",
   "execution_count": 78,
   "id": "91fdb948",
   "metadata": {},
   "outputs": [
    {
     "data": {
      "text/plain": [
       "'awwww the google was sooo sweeet i loved it'"
      ]
     },
     "execution_count": 78,
     "metadata": {},
     "output_type": "execute_result"
    }
   ],
   "source": [
    "# removing punctuations\n",
    "review = remove_punctuations(review)\n",
    "review"
   ]
  },
  {
   "cell_type": "code",
   "execution_count": 79,
   "id": "09cb7398",
   "metadata": {},
   "outputs": [
    {
     "data": {
      "text/plain": [
       "['awwww', 'the', 'google', 'was', 'sooo', 'sweeet', 'i', 'loved', 'it']"
      ]
     },
     "execution_count": 79,
     "metadata": {},
     "output_type": "execute_result"
    }
   ],
   "source": [
    "# tokenizing the data\n",
    "review = tokenize_text(review)\n",
    "review"
   ]
  },
  {
   "cell_type": "code",
   "execution_count": 80,
   "id": "4222ebcf",
   "metadata": {},
   "outputs": [
    {
     "data": {
      "text/plain": [
       "'awwww google sooo sweeet loved'"
      ]
     },
     "execution_count": 80,
     "metadata": {},
     "output_type": "execute_result"
    }
   ],
   "source": [
    "# removing stopwords\n",
    "review = remove_stopwords(review)\n",
    "review"
   ]
  },
  {
   "cell_type": "code",
   "execution_count": 81,
   "id": "f66ff379",
   "metadata": {},
   "outputs": [
    {
     "data": {
      "text/plain": [
       "['awwww', 'google', 'sooo', 'sweeet', 'loved']"
      ]
     },
     "execution_count": 81,
     "metadata": {},
     "output_type": "execute_result"
    }
   ],
   "source": [
    "review = tokenize_text(review)\n",
    "review"
   ]
  },
  {
   "cell_type": "code",
   "execution_count": 82,
   "id": "3047d2c4",
   "metadata": {},
   "outputs": [
    {
     "data": {
      "text/plain": [
       "['awwww', 'google', 'sooo', 'sweeet', 'loved']"
      ]
     },
     "execution_count": 82,
     "metadata": {},
     "output_type": "execute_result"
    }
   ],
   "source": [
    "# lemmatization\n",
    "review = lem_words(review)\n",
    "review"
   ]
  },
  {
   "cell_type": "code",
   "execution_count": 83,
   "id": "9d9cf745",
   "metadata": {},
   "outputs": [
    {
     "data": {
      "text/plain": [
       "'awwww google sooo sweeet loved'"
      ]
     },
     "execution_count": 83,
     "metadata": {},
     "output_type": "execute_result"
    }
   ],
   "source": [
    "# joining to one sentence\n",
    "review = ' '.join(review)\n",
    "\n",
    "review"
   ]
  },
  {
   "cell_type": "code",
   "execution_count": 84,
   "id": "7ff0ca8d",
   "metadata": {},
   "outputs": [
    {
     "data": {
      "text/plain": [
       "['awwww google sooo sweeet loved']"
      ]
     },
     "execution_count": 84,
     "metadata": {},
     "output_type": "execute_result"
    }
   ],
   "source": [
    "# putting to list\n",
    "review = [review]\n",
    "review"
   ]
  },
  {
   "cell_type": "code",
   "execution_count": 85,
   "id": "020f85c4",
   "metadata": {},
   "outputs": [
    {
     "data": {
      "text/plain": [
       "<1x5871 sparse matrix of type '<class 'numpy.int64'>'\n",
       "\twith 2 stored elements in Compressed Sparse Row format>"
      ]
     },
     "execution_count": 85,
     "metadata": {},
     "output_type": "execute_result"
    }
   ],
   "source": [
    "# vectorizing\n",
    "review_x = bow2.transform(review)\n",
    "review_x"
   ]
  },
  {
   "cell_type": "code",
   "execution_count": 86,
   "id": "2b84e3bd",
   "metadata": {},
   "outputs": [
    {
     "data": {
      "text/plain": [
       "array([3])"
      ]
     },
     "execution_count": 86,
     "metadata": {},
     "output_type": "execute_result"
    }
   ],
   "source": [
    "test_predict = log_reg.predict(review_x)\n",
    "test_predict"
   ]
  },
  {
   "attachments": {},
   "cell_type": "markdown",
   "id": "6e926d2c",
   "metadata": {},
   "source": [
    "### 6.2 multiclass classifier\n",
    "* Here we work with the original dataset.\n",
    "* We build a multi-class classifier.\n",
    "* Multinomial, XGBoost and Random forest model will be tested."
   ]
  },
  {
   "attachments": {},
   "cell_type": "markdown",
   "id": "bfa78d5c",
   "metadata": {},
   "source": [
    "#### MultinomialNB model"
   ]
  },
  {
   "cell_type": "code",
   "execution_count": 87,
   "id": "141a3107",
   "metadata": {},
   "outputs": [],
   "source": [
    "# importing library\n",
    "from sklearn.naive_bayes import MultinomialNB"
   ]
  },
  {
   "cell_type": "code",
   "execution_count": 88,
   "id": "b6c2d42b",
   "metadata": {},
   "outputs": [],
   "source": [
    "# target variable\n",
    "y = data['emotion_code']"
   ]
  },
  {
   "cell_type": "code",
   "execution_count": 89,
   "id": "b3e56a11",
   "metadata": {},
   "outputs": [],
   "source": [
    "# splitting the data\n",
    "X_train_multi, X_test_multi, y_train_multi, y_test_multi = train_test_split(x, y, test_size=0.2, random_state=42)"
   ]
  },
  {
   "cell_type": "code",
   "execution_count": 90,
   "id": "f22f13ea",
   "metadata": {},
   "outputs": [
    {
     "data": {
      "text/plain": [
       "((7256, 9867), (7256,))"
      ]
     },
     "execution_count": 90,
     "metadata": {},
     "output_type": "execute_result"
    }
   ],
   "source": [
    "X_train_multi.shape, y_train_multi.shape"
   ]
  },
  {
   "cell_type": "code",
   "execution_count": 91,
   "id": "1385d235",
   "metadata": {},
   "outputs": [
    {
     "data": {
      "text/plain": [
       "MultinomialNB()"
      ]
     },
     "execution_count": 91,
     "metadata": {},
     "output_type": "execute_result"
    }
   ],
   "source": [
    "# instatiating the multi class model\n",
    "multi_class = MultinomialNB()\n",
    "# fitting the model\n",
    "multi_class.fit(X_train_multi, y_train_multi)"
   ]
  },
  {
   "cell_type": "code",
   "execution_count": 92,
   "id": "8d32a141",
   "metadata": {},
   "outputs": [],
   "source": [
    "# predicting multi-class\n",
    "y_pred_multi = multi_class.predict(X_test_multi)\n",
    "y_train_pred_multi = multi_class.predict(X_train_multi)\n"
   ]
  },
  {
   "cell_type": "code",
   "execution_count": 93,
   "id": "ab6b1480",
   "metadata": {},
   "outputs": [
    {
     "name": "stdout",
     "output_type": "stream",
     "text": [
      "train 0.8036108048511577\n",
      "test 0.6543550165380375\n"
     ]
    }
   ],
   "source": [
    "# checking the accuracy\n",
    "\n",
    "print('train',accuracy_score(y_train_multi, y_train_pred_multi))\n",
    "print('test',accuracy_score(y_test_multi, y_pred_multi))"
   ]
  },
  {
   "attachments": {},
   "cell_type": "markdown",
   "id": "d2707a7e",
   "metadata": {},
   "source": [
    "## Machine Learning Communication - MultiNomialmodel.\n",
    "\n",
    "### Rationale why MultiNomial modeling was implemented.\n",
    "* While simpler forms of modeling can do , they may not be able to work with multi-class datasets.\n",
    "\n",
    "### Results.\n",
    "\n",
    "* Accuracy on the training set: 80%\n",
    "* Accuracy on the testing set: 66%\n",
    "\n",
    "* The model is overfitting\n",
    "\n",
    "### Limitations of multinomial model.\n",
    "* The current model is not fit for prediction since it is not generalizing well to new data even with high accuracy. The model is overfitting.\n"
   ]
  },
  {
   "attachments": {},
   "cell_type": "markdown",
   "id": "59b69a6d",
   "metadata": {},
   "source": [
    "#### XGBoost model"
   ]
  },
  {
   "cell_type": "code",
   "execution_count": 102,
   "id": "7f1a0878",
   "metadata": {},
   "outputs": [
    {
     "data": {
      "text/plain": [
       "XGBClassifier(base_score=None, booster=None, callbacks=None,\n",
       "              colsample_bylevel=None, colsample_bynode=None,\n",
       "              colsample_bytree=None, early_stopping_rounds=None,\n",
       "              enable_categorical=False, eval_metric=None, feature_types=None,\n",
       "              gamma=None, gpu_id=None, grow_policy=None, importance_type=None,\n",
       "              interaction_constraints=None, learning_rate=None, max_bin=None,\n",
       "              max_cat_threshold=None, max_cat_to_onehot=None,\n",
       "              max_delta_step=None, max_depth=None, max_leaves=None,\n",
       "              min_child_weight=None, missing=nan, monotone_constraints=None,\n",
       "              n_estimators=100, n_jobs=None, num_parallel_tree=None,\n",
       "              objective='multi:softprob', predictor=None, ...)"
      ]
     },
     "execution_count": 102,
     "metadata": {},
     "output_type": "execute_result"
    }
   ],
   "source": [
    "\n",
    "import xgboost as xgb\n",
    "\n",
    "# Create an XGBoost classifier instance\n",
    "xgb_classifier = xgb.XGBClassifier()\n",
    "\n",
    "# Fit the model on the training data\n",
    "xgb_classifier.fit(X_train_multi, y_train_multi)\n"
   ]
  },
  {
   "cell_type": "code",
   "execution_count": 103,
   "id": "b54d12dc",
   "metadata": {},
   "outputs": [],
   "source": [
    "# Make predictions on the testing data\n",
    "#predictions = xgb_classifier.predict(test_x)\n",
    "\n",
    "y_pred_xgb =  xgb_classifier.predict(X_test_multi)\n",
    "y_train_pred_xgb =  xgb_classifier.predict(X_train_multi)\n"
   ]
  },
  {
   "cell_type": "code",
   "execution_count": 104,
   "id": "7fc6c446",
   "metadata": {},
   "outputs": [
    {
     "name": "stdout",
     "output_type": "stream",
     "text": [
      "train 0.7848676957001103\n",
      "test 0.685226019845645\n"
     ]
    }
   ],
   "source": [
    "# checking the accuracy\n",
    "\n",
    "print('train',accuracy_score(y_train_multi, y_train_pred_xgb))\n",
    "print('test',accuracy_score(y_test_multi, y_pred_xgb))"
   ]
  },
  {
   "attachments": {},
   "cell_type": "markdown",
   "id": "5ddd200d",
   "metadata": {},
   "source": [
    "## Machine Learning Communication XGBoost.\n",
    "\n",
    "### Rationale why ensemble modeling will be implemented.\n",
    "* While simpler forms of data analysis, such as descriptive statistics or basic data visualization, can provide initial insights, they are not sufficient for complex problems or large datasets such as this one. Ensemble models leverages advanced algorithms to uncover hidden patterns, make accurate predictions.\n",
    "\n",
    "### Results.\n",
    "* Accuracy on the training set: 78%\n",
    "\n",
    "* Accuracy on the testing set: 68%\n",
    "\n",
    "* The accuracy means that the model can predict with an accuracy of 78% whether a tweet falls within the specified labels.\n",
    "\n",
    "### Limitations.\n",
    "\n",
    "* The current model is not fit for prediction since it is overfitting.\n",
    "* This we see from the difference between train and test accuracy."
   ]
  },
  {
   "cell_type": "code",
   "execution_count": null,
   "id": "a4f27371",
   "metadata": {},
   "outputs": [],
   "source": []
  },
  {
   "attachments": {},
   "cell_type": "markdown",
   "id": "22576681",
   "metadata": {},
   "source": [
    "## Resampling to handle the class imbalance issue.\n",
    "\n",
    "We try to battle overfitting by handling imbalance issues in the classes, then modelling again."
   ]
  },
  {
   "attachments": {},
   "cell_type": "markdown",
   "id": "42fd0bae",
   "metadata": {},
   "source": [
    "### trying resampling with xgboost"
   ]
  },
  {
   "cell_type": "code",
   "execution_count": 105,
   "id": "0aafecb3",
   "metadata": {},
   "outputs": [
    {
     "name": "stdout",
     "output_type": "stream",
     "text": [
      "Accuracy: 0.6097023153252481\n"
     ]
    }
   ],
   "source": [
    "from imblearn.over_sampling import RandomOverSampler\n",
    "from imblearn.under_sampling import RandomUnderSampler\n",
    "import xgboost as xgb\n",
    "from sklearn.metrics import accuracy_score\n",
    "\n",
    "# Creating an instance of the resampler\n",
    "resampler = RandomOverSampler()  # or RandomUnderSampler()\n",
    "\n",
    "# Perform resampling on the training data\n",
    "resampled_features, resampled_labels = resampler.fit_resample(X_train_multi, y_train_multi)\n",
    "\n",
    "# Create an XGBoost classifier instance\n",
    "xgb_classifier = xgb.XGBClassifier()\n",
    "\n",
    "# Fit the model on the resampled training data\n",
    "xgb_classifier.fit(resampled_features, resampled_labels)\n",
    "\n",
    "# Make predictions on the testing data\n",
    "predictions = xgb_classifier.predict(X_test_multi)\n",
    "\n",
    "# Evaluate the model\n",
    "accuracy = accuracy_score(y_test_multi, predictions)\n",
    "print(\"Accuracy:\", accuracy)"
   ]
  },
  {
   "attachments": {},
   "cell_type": "markdown",
   "id": "0e5a901a",
   "metadata": {},
   "source": [
    "## ML Communication\n",
    "\n",
    "### Result\n",
    "The resampled model has an accuracy of 61% which is not an improvement over prior models.\n",
    "\n",
    "### limitations\n",
    "The resampled model is not fit for modelling since its modelling accuracy is low.\n",
    "\n"
   ]
  },
  {
   "attachments": {},
   "cell_type": "markdown",
   "id": "e5c2a474",
   "metadata": {},
   "source": [
    "# Final note on modelling\n",
    "* Despite implementing resampling techniques to address class imbalance, the model's accuracy has not improved significantly. This suggests that other factors within the dataset may be limiting predictive performance.\n",
    "\n",
    "* The binary logisitc regression model performs best and is fit to be deployed.\n"
   ]
  },
  {
   "cell_type": "code",
   "execution_count": null,
   "id": "ed9be15e",
   "metadata": {},
   "outputs": [],
   "source": []
  }
 ],
 "metadata": {
  "kernelspec": {
   "display_name": "Python 3 (ipykernel)",
   "language": "python",
   "name": "python3"
  },
  "language_info": {
   "codemirror_mode": {
    "name": "ipython",
    "version": 3
   },
   "file_extension": ".py",
   "mimetype": "text/x-python",
   "name": "python",
   "nbconvert_exporter": "python",
   "pygments_lexer": "ipython3",
   "version": "3.8.5"
  }
 },
 "nbformat": 4,
 "nbformat_minor": 5
}
